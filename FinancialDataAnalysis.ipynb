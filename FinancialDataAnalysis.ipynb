{
 "cells": [
  {
   "cell_type": "markdown",
   "id": "05bbda45-359c-44fc-9250-54ec77d1eef3",
   "metadata": {},
   "source": [
    "##### Step 1: Install the ipython-sql and psycopg2 libraries to connect to PostgreSQL"
   ]
  },
  {
   "cell_type": "code",
   "execution_count": 1,
   "id": "26fcbbee-d1ef-4b93-a67b-f138102b74f7",
   "metadata": {},
   "outputs": [
    {
     "name": "stdout",
     "output_type": "stream",
     "text": [
      "ipython-sql==0.4.1\n",
      "psycopg2==2.9.5\n",
      "psycopg2-binary==2.9.5\n"
     ]
    }
   ],
   "source": [
    "!pip freeze | grep -E 'ipython-sql|psycopg2'"
   ]
  },
  {
   "cell_type": "markdown",
   "id": "65ced63f-4d18-464f-aec3-f4922c6d1ee8",
   "metadata": {},
   "source": [
    "##### Step 2: Checking the version of PostgreSQL"
   ]
  },
  {
   "cell_type": "code",
   "execution_count": 2,
   "id": "f2585452-3b21-46b3-bd9b-e7d53dfe32d7",
   "metadata": {},
   "outputs": [
    {
     "name": "stdout",
     "output_type": "stream",
     "text": [
      "psql (PostgreSQL) 12.20 (Ubuntu 12.20-0ubuntu0.20.04.1)\n"
     ]
    }
   ],
   "source": [
    "!psql --version"
   ]
  },
  {
   "cell_type": "markdown",
   "id": "4b03c72f-6410-4917-b1bf-b304a7a5d9cc",
   "metadata": {},
   "source": [
    "##### Step 3: Drop the database if exists"
   ]
  },
  {
   "cell_type": "code",
   "execution_count": 3,
   "id": "bbd84c9f-2021-4ff7-95e0-e0ff7846aa01",
   "metadata": {},
   "outputs": [
    {
     "name": "stdout",
     "output_type": "stream",
     "text": [
      "dropdb: error: database removal failed: ERROR:  database \"DMA_G6\" does not exist\n"
     ]
    }
   ],
   "source": [
    "!dropdb -U student DMA_G6"
   ]
  },
  {
   "cell_type": "markdown",
   "id": "49749dfc-feab-42b4-a6e8-d6f8253230ca",
   "metadata": {},
   "source": [
    "##### Step 4: Create database "
   ]
  },
  {
   "cell_type": "code",
   "execution_count": 2,
   "id": "9d736c59-1519-4154-84a7-38b0aa1dcb92",
   "metadata": {},
   "outputs": [
    {
     "name": "stdout",
     "output_type": "stream",
     "text": [
      "createdb: error: database creation failed: ERROR:  database \"DMA_G6\" already exists\n"
     ]
    }
   ],
   "source": [
    "!createdb -U student DMA_G6"
   ]
  },
  {
   "cell_type": "markdown",
   "id": "1305b678-30fc-494c-b801-c4489e6a947a",
   "metadata": {},
   "source": [
    "##### Step 5: Load the SQL extension to run SQL queries within the notebook cells"
   ]
  },
  {
   "cell_type": "code",
   "execution_count": 3,
   "id": "71fbcbe7-cba5-47b4-8864-0e119d9021b4",
   "metadata": {},
   "outputs": [],
   "source": [
    "%load_ext sql"
   ]
  },
  {
   "cell_type": "markdown",
   "id": "347dfd8a-baa7-4535-956b-f96928b642e7",
   "metadata": {},
   "source": [
    "##### Step 6: Connecting to our database"
   ]
  },
  {
   "cell_type": "code",
   "execution_count": 4,
   "id": "b5b04cbc-2bd8-4f3f-841a-e9da7515ac9b",
   "metadata": {},
   "outputs": [],
   "source": [
    "%sql postgresql://student@/DMA_G6"
   ]
  },
  {
   "cell_type": "markdown",
   "id": "8e104c17-eb12-46dc-a9da-fbba5c18487f",
   "metadata": {},
   "source": [
    "##### Step 7: Creating SUB - Drop if it exists and then create the new SUB table in the database. \n",
    "\n",
    "* The CREATE TABLE \"TABLENAME\" is followed by all the attributes along with their datatypes. "
   ]
  },
  {
   "cell_type": "code",
   "execution_count": 7,
   "id": "67846797-fe8f-49a6-80f2-ff4cebd4b78a",
   "metadata": {},
   "outputs": [
    {
     "name": "stdout",
     "output_type": "stream",
     "text": [
      " * postgresql://student@/DMA_G6\n",
      "Done.\n",
      "Done.\n"
     ]
    },
    {
     "data": {
      "text/plain": [
       "[]"
      ]
     },
     "execution_count": 7,
     "metadata": {},
     "output_type": "execute_result"
    }
   ],
   "source": [
    "%%sql\n",
    "DROP TABLE IF EXISTS SUB CASCADE;\n",
    "CREATE TABLE SUB (\n",
    "    adsh VARCHAR(20) PRIMARY KEY,        -- Accession Number\n",
    "    cik NUMERIC(10) NOT NULL,            -- Central Index Key (CIK)\n",
    "    name VARCHAR(150) NOT NULL,          -- Name of registrant\n",
    "    sic NUMERIC(4),                      -- Standard Industrial Classification (SIC)\n",
    "    countryba VARCHAR(2),                -- Business address country (ISO 3166-1)\n",
    "    stprba VARCHAR(2),                   -- Business address state/province (if US/CA)\n",
    "    cityba VARCHAR(30),                  -- Business address city\n",
    "    zipba VARCHAR(10),                   -- Business address zip code\n",
    "    bas1 VARCHAR(40),                    -- Business address street line 1\n",
    "    bas2 VARCHAR(40),                    -- Business address street line 2\n",
    "    baph VARCHAR(20),                    -- Business address phone number\n",
    "    countryma VARCHAR(2),                -- Mailing address country (ISO 3166-1)\n",
    "    stprma VARCHAR(2),                   -- Mailing address state/province (if US/CA)\n",
    "    cityma VARCHAR(30),                  -- Mailing address city\n",
    "    zipma VARCHAR(10),                   -- Mailing address zip code\n",
    "    mas1 VARCHAR(40),                    -- Mailing address street line 1\n",
    "    mas2 VARCHAR(40),                    -- Mailing address street line 2\n",
    "    countryinc VARCHAR(2),               -- Country of incorporation (ISO 3166-1)\n",
    "    stprinc VARCHAR(2),                  -- State/province of incorporation (if US/CA)\n",
    "    ein NUMERIC(10),                     -- Employee Identification Number (EIN)\n",
    "    former VARCHAR(150),                 -- Most recent former name of the registrant\n",
    "    changed VARCHAR(8),                  -- Date of change from former name\n",
    "    afs VARCHAR(5),                      -- Filer status with the Commission\n",
    "    wksi BOOLEAN NOT NULL,               -- Well Known Seasoned Issuer (WKSI)\n",
    "    fye VARCHAR(4),                      -- Fiscal Year End Date (mmdd)\n",
    "    form VARCHAR(20) NOT NULL,           -- Submission type\n",
    "    period DATE,                         -- Balance sheet date\n",
    "    fy INTEGER,                          -- Fiscal Year Focus\n",
    "    fp VARCHAR(2),                       -- Fiscal Period Focus (FY, Q1, Q2, etc.)\n",
    "    filed DATE NOT NULL,                 -- Date of filing with the Commission\n",
    "    accepted TIMESTAMP NOT NULL,         -- Acceptance date and time\n",
    "    prevrpt BOOLEAN NOT NULL,            -- Previous Report\n",
    "    detail BOOLEAN NOT NULL,             -- Detail level in XBRL submission\n",
    "    instance VARCHAR(255),               -- XBRL Instance Document\n",
    "    nciks NUMERIC(4) NOT NULL,           -- Number of Central Index Keys (CIKs)\n",
    "    aciks VARCHAR(120),                  -- Additional CIKs (space delimited)\n",
    "    pubfloatusd NUMERIC(20,2),           -- Increased precision for Public float in USD\n",
    "    floatdate DATE,                      -- Date public float was measured\n",
    "    floataxis VARCHAR(255),              -- Nature of public float summation\n",
    "    floatmems NUMERIC(2)                 -- Updated precision for floatmems to allow larger values\n",
    ");\n"
   ]
  },
  {
   "cell_type": "markdown",
   "id": "0a3aa156-0006-498d-94e1-b3f0109ec458",
   "metadata": {},
   "source": [
    "##### Step 8: Add comments on SUB table and all of its attributes"
   ]
  },
  {
   "cell_type": "code",
   "execution_count": 8,
   "id": "edec5eff-619d-4539-8c1b-07d12f0360a6",
   "metadata": {
    "tags": []
   },
   "outputs": [
    {
     "name": "stdout",
     "output_type": "stream",
     "text": [
      " * postgresql://student@/DMA_G6\n",
      "Done.\n",
      "Done.\n",
      "Done.\n",
      "Done.\n",
      "Done.\n",
      "Done.\n",
      "Done.\n",
      "Done.\n",
      "Done.\n",
      "Done.\n",
      "Done.\n",
      "Done.\n",
      "Done.\n",
      "Done.\n",
      "Done.\n",
      "Done.\n",
      "Done.\n",
      "Done.\n",
      "Done.\n",
      "Done.\n",
      "Done.\n",
      "Done.\n",
      "Done.\n",
      "Done.\n",
      "Done.\n",
      "Done.\n",
      "Done.\n",
      "Done.\n",
      "Done.\n",
      "Done.\n",
      "Done.\n",
      "Done.\n",
      "Done.\n",
      "Done.\n",
      "Done.\n",
      "Done.\n",
      "Done.\n",
      "Done.\n",
      "Done.\n",
      "Done.\n",
      "Done.\n"
     ]
    },
    {
     "data": {
      "text/plain": [
       "[]"
      ]
     },
     "execution_count": 8,
     "metadata": {},
     "output_type": "execute_result"
    }
   ],
   "source": [
    "%%sql\n",
    "\n",
    "-- Comment on SUB table\n",
    "COMMENT ON TABLE SUB IS 'Submission data set; this includes one record for each XBRL submission. The set includes fields of information pertinent to the submission and the filing entity. Information is extracted from the Commission''s EDGAR system and the filings submitted to the Commission by registrants.';\n",
    "\n",
    "-- Comment on attributes of SUB table\n",
    "COMMENT ON COLUMN SUB.adsh IS 'Accession Number. The 20-character string formed from the 18-digit number assigned by the Commission to each EDGAR submission.';\n",
    "COMMENT ON COLUMN SUB.cik IS 'Central Index Key (CIK). Ten-digit number assigned by the Commission to each registrant that submits filings.';\n",
    "COMMENT ON COLUMN SUB.name IS 'Name of registrant. This corresponds to the name of the legal entity as recorded in EDGAR as of the filing date.';\n",
    "COMMENT ON COLUMN SUB.sic IS 'Standard Industrial Classification (SIC). Four-digit code assigned by the Commission indicating the registrant''s type of business.';\n",
    "COMMENT ON COLUMN SUB.countryba IS 'The ISO 3166-1 country of the registrant''s business address.';\n",
    "COMMENT ON COLUMN SUB.stprba IS 'The state or province of the registrant''s business address, if field countryba is US or CA.';\n",
    "COMMENT ON COLUMN SUB.cityba IS 'The city of the registrant''s business address.';\n",
    "COMMENT ON COLUMN SUB.zipba IS 'The zip code of the registrant''s business address.';\n",
    "COMMENT ON COLUMN SUB.bas1 IS 'The first line of the street of the registrant''s business address.';\n",
    "COMMENT ON COLUMN SUB.bas2 IS 'The second line of the street of the registrant''s business address.';\n",
    "COMMENT ON COLUMN SUB.baph IS 'The phone number of the registrant''s business address.';\n",
    "COMMENT ON COLUMN SUB.countryma IS 'The ISO 3166-1 country of the registrant''s mailing address.';\n",
    "COMMENT ON COLUMN SUB.stprma IS 'The state or province of the registrant''s mailing address, if field countryma is US or CA.';\n",
    "COMMENT ON COLUMN SUB.cityma IS 'The city of the registrant''s mailing address.';\n",
    "COMMENT ON COLUMN SUB.zipma IS 'The zip code of the registrant''s mailing address.';\n",
    "COMMENT ON COLUMN SUB.mas1 IS 'The first line of the street of the registrant''s mailing address.';\n",
    "COMMENT ON COLUMN SUB.mas2 IS 'The second line of the street of the registrant''s mailing address.';\n",
    "COMMENT ON COLUMN SUB.countryinc IS 'The country of incorporation for the registrant.';\n",
    "COMMENT ON COLUMN SUB.stprinc IS 'The state or province of incorporation for the registrant, if countryinc is US or CA, otherwise NULL.';\n",
    "COMMENT ON COLUMN SUB.ein IS 'Employee Identification Number. A unique 9-digit identification number assigned by the IRS to business entities operating in the United States.';\n",
    "COMMENT ON COLUMN SUB.former IS 'Most recent former name of the registrant, if any.';\n",
    "COMMENT ON COLUMN SUB.changed IS 'Date of change from the former name, if any.';\n",
    "COMMENT ON COLUMN SUB.afs IS 'Filer status with the Commission at the time of submission: 1-LAF=Large Accelerated, 2-ACC=Accelerated, 3-SRA=Smaller Reporting Accelerated, 4-NON=Non-Accelerated, 5-SML=Smaller Reporting Filer, NULL=not assigned.';\n",
    "COMMENT ON COLUMN SUB.wksi IS 'Well Known Seasoned Issuer (WKSI). An issuer that meets specific Commission requirements at some point during a 60-day period preceding the date the issuer satisfies its obligation to update its shelf registration statement.';\n",
    "COMMENT ON COLUMN SUB.fye IS 'Fiscal Year End Date.';\n",
    "COMMENT ON COLUMN SUB.form IS 'The submission type of the registrant''s filing.';\n",
    "COMMENT ON COLUMN SUB.period IS 'Balance Sheet Date.';\n",
    "COMMENT ON COLUMN SUB.fy IS 'Fiscal Year Focus (as defined in EFM Ch. 6).';\n",
    "COMMENT ON COLUMN SUB.fp IS 'Fiscal Period Focus within Fiscal Year, with possible values including FY, Q1, Q2, Q3, etc.';\n",
    "COMMENT ON COLUMN SUB.filed IS 'The date of the registrant''s filing with the Commission.';\n",
    "COMMENT ON COLUMN SUB.accepted IS 'The acceptance date and time of the registrant''s filing with the Commission.';\n",
    "COMMENT ON COLUMN SUB.prevrpt IS 'Previous Report – TRUE indicates that the submission information was subsequently amended prior to the end cutoff date of the data set.';\n",
    "COMMENT ON COLUMN SUB.detail IS 'TRUE indicates that the XBRL submission contains quantitative disclosures within the footnotes and schedules at the required detail level.';\n",
    "COMMENT ON COLUMN SUB.instance IS 'The name of the submitted XBRL Instance Document (EX-101.INS) type data file.';\n",
    "COMMENT ON COLUMN SUB.nciks IS 'Number of Central Index Keys (CIK) of registrants included in the consolidating entity''s submitted filing.';\n",
    "COMMENT ON COLUMN SUB.aciks IS 'Additional CIKs of co-registrants included in a consolidating entity''s EDGAR submission, separated by spaces.';\n",
    "COMMENT ON COLUMN SUB.pubfloatusd IS 'Public float, in USD, if provided in this submission.';\n",
    "COMMENT ON COLUMN SUB.floatdate IS 'Date on which the public float was measured by the filer.';\n",
    "COMMENT ON COLUMN SUB.floataxis IS 'If the public float value was computed by summing across several tagged values, this indicates the nature of the summation.';\n",
    "COMMENT ON COLUMN SUB.floatmems IS 'If the public float was computed, the number of terms in the summation.';"
   ]
  },
  {
   "cell_type": "markdown",
   "id": "f50d1a65-c324-404e-9bf6-d12d2b96e1d4",
   "metadata": {},
   "source": [
    "##### Step 9: Creating TAG - Drop if it exists and then create the new TAG table in the database"
   ]
  },
  {
   "cell_type": "code",
   "execution_count": 9,
   "id": "070c0706-9a54-49be-a0e7-d1c0f6f96cb7",
   "metadata": {},
   "outputs": [
    {
     "name": "stdout",
     "output_type": "stream",
     "text": [
      " * postgresql://student@/DMA_G6\n",
      "Done.\n",
      "Done.\n"
     ]
    },
    {
     "data": {
      "text/plain": [
       "[]"
      ]
     },
     "execution_count": 9,
     "metadata": {},
     "output_type": "execute_result"
    }
   ],
   "source": [
    "%%sql\n",
    "DROP TABLE IF EXISTS TAG CASCADE;\n",
    "CREATE TABLE TAG (\n",
    "    tag VARCHAR(256) NOT NULL,             -- Unique identifier for the tag in a taxonomy release\n",
    "    version VARCHAR(20) NOT NULL,          -- Taxonomy identifier or accession number\n",
    "    custom BOOLEAN NOT NULL,               -- 1 if custom (version = adsh), 0 if standard\n",
    "    abstract BOOLEAN NOT NULL,             -- 1 if not representing a numeric fact\n",
    "    datatype VARCHAR(20),                  -- Data type (if abstract = 1, then NULL)\n",
    "    iord CHAR(1),                          -- \"I\" for point-in-time, \"D\" for duration (if abstract = 1, then NULL)\n",
    "    crdr CHAR(1),                          -- \"C\" for credit, \"D\" for debit (if datatype = monetary, else NULL)\n",
    "    tlabel VARCHAR(512),                   -- Label text for the tag\n",
    "    doc VARCHAR(2048),                     -- Detailed definition for the tag (truncated to 2048 characters)\n",
    "\n",
    "    PRIMARY KEY (tag, version)             -- Set a primary key on tag and version\n",
    ");"
   ]
  },
  {
   "cell_type": "markdown",
   "id": "6e54cb06-b88d-4532-8190-6285f9fdfe9f",
   "metadata": {},
   "source": [
    "##### Step 10: Add comments on TAG table and all of its attributes "
   ]
  },
  {
   "cell_type": "code",
   "execution_count": 10,
   "id": "9d219fed-edda-46b2-ac80-bd1af4a99249",
   "metadata": {},
   "outputs": [
    {
     "name": "stdout",
     "output_type": "stream",
     "text": [
      " * postgresql://student@/DMA_G6\n",
      "Done.\n",
      "Done.\n",
      "Done.\n",
      "Done.\n",
      "Done.\n",
      "Done.\n",
      "Done.\n",
      "Done.\n",
      "Done.\n",
      "Done.\n"
     ]
    },
    {
     "data": {
      "text/plain": [
       "[]"
      ]
     },
     "execution_count": 10,
     "metadata": {},
     "output_type": "execute_result"
    }
   ],
   "source": [
    "%%sql\n",
    "\n",
    "-- Comment on TAG table\n",
    "COMMENT ON TABLE TAG IS 'Tag data set; includes defining information about each tag. Information includes tag descriptions (documentation labels), taxonomy version information, and other tag attributes.';\n",
    "\n",
    "-- Comment on attributes of TAG table\n",
    "COMMENT ON COLUMN TAG.tag IS 'The unique identifier (name) for a tag in a specific taxonomy release.';\n",
    "COMMENT ON COLUMN TAG.version IS 'For a standard tag, an identifier for the taxonomy; otherwise the accession number where the tag was defined.';\n",
    "COMMENT ON COLUMN TAG.custom IS '1 if the tag is custom (version=adsh), 0 if it is standard. This flag is technically redundant with the version and adsh fields.';\n",
    "COMMENT ON COLUMN TAG.abstract IS '1 if the tag is not used to represent a numeric fact.';\n",
    "COMMENT ON COLUMN TAG.datatype IS 'The data type for the tag (e.g., monetary). If abstract=1, then NULL.';\n",
    "COMMENT ON COLUMN TAG.iord IS 'Indicates if the value is a point in time or a duration. If abstract=1, then NULL.';\n",
    "COMMENT ON COLUMN TAG.crdr IS 'The tag''s natural accounting balance (debit or credit). If not defined, then NULL.';\n",
    "COMMENT ON COLUMN TAG.tlabel IS 'The label text provided by the taxonomy or the filer. A tag which had neither would have a NULL value here.';\n",
    "COMMENT ON COLUMN TAG.doc IS 'The detailed definition for the tag, truncated to 2048 characters. If a standard tag, then the text provided by the taxonomy, otherwise the text assigned by the filer.';"
   ]
  },
  {
   "cell_type": "markdown",
   "id": "d24d85cd-0e77-4aac-889b-2e3bf83f8290",
   "metadata": {},
   "source": [
    "##### Step 11: Creating DIM - Drop if it exists and then create the new DIM table in the database"
   ]
  },
  {
   "cell_type": "code",
   "execution_count": 11,
   "id": "fa8757f2-6ad9-4ae1-98f4-c4541a0f8a8c",
   "metadata": {},
   "outputs": [
    {
     "name": "stdout",
     "output_type": "stream",
     "text": [
      " * postgresql://student@/DMA_G6\n",
      "Done.\n",
      "Done.\n"
     ]
    },
    {
     "data": {
      "text/plain": [
       "[]"
      ]
     },
     "execution_count": 11,
     "metadata": {},
     "output_type": "execute_result"
    }
   ],
   "source": [
    "%%sql\n",
    "DROP TABLE IF EXISTS DIM CASCADE;\n",
    "CREATE TABLE DIM (\n",
    "    dimh CHAR(64) PRIMARY KEY,           -- MD5 hash of the segments field text (64-character hex)\n",
    "    segments VARCHAR(1024) ,             -- Concatenation of tag names representing axis and members\n",
    "    segt BOOLEAN NOT NULL                -- TRUE if the segments field was truncated, else FALSE\n",
    ");"
   ]
  },
  {
   "cell_type": "markdown",
   "id": "02a4017f-a982-46b7-86ff-74da7fe5ad93",
   "metadata": {},
   "source": [
    "##### Step 12: Add comments on DIM table and all of its attributes"
   ]
  },
  {
   "cell_type": "code",
   "execution_count": 12,
   "id": "a25b77f8-ec3b-4573-9721-d3b70aa3e5ab",
   "metadata": {},
   "outputs": [
    {
     "name": "stdout",
     "output_type": "stream",
     "text": [
      " * postgresql://student@/DMA_G6\n",
      "Done.\n",
      "Done.\n",
      "Done.\n",
      "Done.\n"
     ]
    },
    {
     "data": {
      "text/plain": [
       "[]"
      ]
     },
     "execution_count": 12,
     "metadata": {},
     "output_type": "execute_result"
    }
   ],
   "source": [
    "%%sql\n",
    "\n",
    "-- Comment on DIM table\n",
    "COMMENT ON TABLE DIM IS 'Dimension data set; used to provide more detail in numeric and non-numeric facts.';\n",
    "\n",
    "-- Comment on attributes of DIM table\n",
    "COMMENT ON COLUMN DIM.dimh IS 'MD5 hash of the segments field text, used as a primary key. Although MD5 is unsuitable for cryptographic use, it is used here merely to limit the size of the primary key.';\n",
    "COMMENT ON COLUMN DIM.segments IS 'Concatenation of tag names representing the axis and members appearing in the XBRL segments. Each dimension is represented as the pair \"{axis}={member};\" and the axes concatenated in lexical order.';\n",
    "COMMENT ON COLUMN DIM.segt IS 'TRUE if the segments field would have been longer than 1024 characters had it not been truncated, else FALSE.';"
   ]
  },
  {
   "cell_type": "markdown",
   "id": "f90f0612-d650-4670-97c8-f1358f7420df",
   "metadata": {},
   "source": [
    "##### Step 13: Creating REN - Drop if it exists and then create the new REN table in the database"
   ]
  },
  {
   "cell_type": "code",
   "execution_count": 13,
   "id": "72c29399-6207-4d72-be42-e795553a1fca",
   "metadata": {},
   "outputs": [
    {
     "name": "stdout",
     "output_type": "stream",
     "text": [
      " * postgresql://student@/DMA_G6\n",
      "Done.\n",
      "Done.\n"
     ]
    },
    {
     "data": {
      "text/plain": [
       "[]"
      ]
     },
     "execution_count": 13,
     "metadata": {},
     "output_type": "execute_result"
    }
   ],
   "source": [
    "%%sql\n",
    "DROP TABLE IF EXISTS REN CASCADE;\n",
    "\n",
    "CREATE TABLE REN (\n",
    "    adsh VARCHAR(20) NOT NULL,                 -- Accession Number (Foreign Key to SUB table)\n",
    "    report INT NOT NULL,                       -- Report grouping numeric value, matching type with PRE\n",
    "    rfile CHAR(1) NOT NULL,                    -- Type of interactive data file rendered (e.g., H = .htm, X = .xml)\n",
    "    menucat CHAR(2),                           -- Menu categories (C=Cover, S=Statements, N=Notes, etc.)\n",
    "    shortname VARCHAR(512) ,                   -- Portion of the long name used in the renderer menu\n",
    "    longname VARCHAR(512) NOT NULL,            -- Space-normalized text of the XBRL link \"definition\" element content\n",
    "    roleuri VARCHAR(255) NOT NULL,             -- XBRL \"roleuri\" of the role (no foreign key constraint)\n",
    "    parentroleuri VARCHAR(255),                -- XBRL \"roleuri\" of the parent role (nullable)\n",
    "    parentreport INT,                          -- Value of the report field where roleuri matches parentroleuri (nullable)\n",
    "    ultparentrpt INT,                          -- Highest ancestor report reachable by following parentreport relationships (nullable)\n",
    "\n",
    "    PRIMARY KEY (adsh, report),                -- Composite primary key on (adsh, report)\n",
    "\n",
    "    -- Foreign Key Constraints\n",
    "    FOREIGN KEY (adsh) REFERENCES SUB(adsh)             -- Reference to SUB table (adsh)\n",
    ");"
   ]
  },
  {
   "cell_type": "markdown",
   "id": "93204710-0127-451c-82ea-7e7e11460ff5",
   "metadata": {},
   "source": [
    "##### Step 14: Add comments on REN table and all of its attributes"
   ]
  },
  {
   "cell_type": "code",
   "execution_count": 14,
   "id": "4253954b-0370-428e-8cc7-587971d48411",
   "metadata": {},
   "outputs": [
    {
     "name": "stdout",
     "output_type": "stream",
     "text": [
      " * postgresql://student@/DMA_G6\n",
      "Done.\n",
      "Done.\n",
      "Done.\n",
      "Done.\n",
      "Done.\n",
      "Done.\n",
      "Done.\n",
      "Done.\n",
      "Done.\n",
      "Done.\n",
      "Done.\n"
     ]
    },
    {
     "data": {
      "text/plain": [
       "[]"
      ]
     },
     "execution_count": 14,
     "metadata": {},
     "output_type": "execute_result"
    }
   ],
   "source": [
    "%%sql\n",
    "\n",
    "-- Comment on REN table\n",
    "COMMENT ON TABLE REN IS 'Rendering data set; this contains data from the rendering of the filing on the Commission website.';\n",
    "\n",
    "-- Comment on attributes of REN table\n",
    "COMMENT ON COLUMN REN.adsh IS 'Accession Number. The 20-character string formed from the 18-digit number assigned by the Commission to each EDGAR submission.';\n",
    "COMMENT ON COLUMN REN.report IS 'Represents the report grouping. The numeric value refers to the \"R file\" as computed by the renderer and posted on the EDGAR website. Note that in some situations the numbers skip.';\n",
    "COMMENT ON COLUMN REN.rfile IS 'The type of interactive data file rendered on the EDGAR website, H = .htm file, X = .xml file.';\n",
    "COMMENT ON COLUMN REN.menucat IS 'If available, one of the menu categories as computed by the renderer: C=Cover, S=Statements, N=Notes, P=Policies, T=Tables, D=Details, O=Other, and U=Uncategorized.';\n",
    "COMMENT ON COLUMN REN.shortname IS 'The portion of the long name used in the renderer menu.';\n",
    "COMMENT ON COLUMN REN.longname IS 'The space-normalized text of the XBRL link \"definition\" element content.';\n",
    "COMMENT ON COLUMN REN.roleuri IS 'The XBRL \"roleuri\" of the role.';\n",
    "COMMENT ON COLUMN REN.parentroleuri IS 'The XBRL roleuri of a role for which this role has a matching shortname prefix and a higher level menu category, as computed by the renderer.';\n",
    "COMMENT ON COLUMN REN.parentreport IS 'The value of the report field for the role where roleuri equals this parentroleuri.';\n",
    "COMMENT ON COLUMN REN.ultparentrpt IS 'The highest ancestor report reachable by following parentreport relationships. A note (menucat = N) is its own ultimate parent.';\n"
   ]
  },
  {
   "cell_type": "markdown",
   "id": "dafbb197-c68e-49c9-86a4-c35ec107af6d",
   "metadata": {},
   "source": [
    "##### Step 15: Creating PRE - Drop if it exists and then create the new PRE table in the database"
   ]
  },
  {
   "cell_type": "code",
   "execution_count": 15,
   "id": "e0ec84ab-2a5d-4e38-a7b1-ceab672dbc77",
   "metadata": {},
   "outputs": [
    {
     "name": "stdout",
     "output_type": "stream",
     "text": [
      " * postgresql://student@/DMA_G6\n",
      "Done.\n",
      "Done.\n"
     ]
    },
    {
     "data": {
      "text/plain": [
       "[]"
      ]
     },
     "execution_count": 15,
     "metadata": {},
     "output_type": "execute_result"
    }
   ],
   "source": [
    "%%sql\n",
    "DROP TABLE IF EXISTS PRE CASCADE;\n",
    "\n",
    "CREATE TABLE PRE (\n",
    "    adsh VARCHAR(20) NOT NULL,                -- Accession Number\n",
    "    report INT NOT NULL,                      -- Report grouping numeric value\n",
    "    line INT NOT NULL,                        -- Presentation line order for a given report\n",
    "    stmt CHAR(2) ,                            -- Financial statement location (e.g., CP, BS, IS)\n",
    "    inpth BOOLEAN NOT NULL,                   -- Indicates if the value is presented parenthetically\n",
    "    tag VARCHAR(256) NOT NULL,                -- Tag chosen by the filer for this line item\n",
    "    version VARCHAR(20) NOT NULL,             -- Taxonomy identifier if the tag is standard\n",
    "    prole VARCHAR(50) NOT NULL,               -- XBRL link \"role\" of the preferred label\n",
    "    plabel VARCHAR(512),             -- Text presented on the line item (preferred label)\n",
    "    negating BOOLEAN NOT NULL,                -- Indicates if the prole is treated as negating\n",
    "\n",
    "    PRIMARY KEY (adsh, report, line),         -- Composite primary key\n",
    "    FOREIGN KEY (adsh) REFERENCES SUB(adsh),\n",
    "    FOREIGN KEY (adsh, report) REFERENCES REN(adsh, report),\n",
    "    FOREIGN KEY (tag, version) REFERENCES TAG(tag, version)\n",
    ");"
   ]
  },
  {
   "cell_type": "markdown",
   "id": "1d41f378-3feb-4500-ba2c-2ebfc0ff58cd",
   "metadata": {},
   "source": [
    "##### Step 16: Add comments on PRE table and all of its attributes"
   ]
  },
  {
   "cell_type": "code",
   "execution_count": 16,
   "id": "49409d96-b657-49f1-b88e-2e64f7795c75",
   "metadata": {},
   "outputs": [
    {
     "name": "stdout",
     "output_type": "stream",
     "text": [
      " * postgresql://student@/DMA_G6\n",
      "Done.\n",
      "Done.\n",
      "Done.\n",
      "Done.\n",
      "Done.\n",
      "Done.\n",
      "Done.\n",
      "Done.\n",
      "Done.\n",
      "Done.\n",
      "Done.\n"
     ]
    },
    {
     "data": {
      "text/plain": [
       "[]"
      ]
     },
     "execution_count": 16,
     "metadata": {},
     "output_type": "execute_result"
    }
   ],
   "source": [
    "%%sql\n",
    "\n",
    "-- Comment on PRE table\n",
    "COMMENT ON TABLE PRE IS 'Presentation data set; this provides information about how the tags and numbers were presented in the primary financial statements.';\n",
    "\n",
    "-- Comment on attributes of PRE table\n",
    "COMMENT ON COLUMN PRE.adsh IS 'Accession Number. The 20-character string formed from the 18-digit number assigned by the Commission to each EDGAR submission.';\n",
    "COMMENT ON COLUMN PRE.report IS 'Represents the report grouping. The numeric value refers to the \"R file\" as computed by the renderer and posted on the EDGAR website. Note that in some situations the numbers skip.';\n",
    "COMMENT ON COLUMN PRE.line IS 'Represents the tag''s presentation line order for a given report. Together with the statement and report field, presentation location, order and grouping can be derived.';\n",
    "COMMENT ON COLUMN PRE.stmt IS 'The financial statement location to which the value of the \"report\" field pertains. Possible values include CP = Cover Page, BS = Balance Sheet, IS = Income Statement, CF = Cash Flow, EQ = Equity, CI = Comprehensive Income, UN = Unclassifiable Statement.';\n",
    "COMMENT ON COLUMN PRE.inpth IS '1 indicates that the value was presented \"parenthetically\" instead of in fields within the financial statements.';\n",
    "COMMENT ON COLUMN PRE.tag IS 'The tag chosen by the filer for this line item.';\n",
    "COMMENT ON COLUMN PRE.version IS 'The taxonomy identifier if the tag is a standard tag; otherwise, it is the adsh.';\n",
    "COMMENT ON COLUMN PRE.prole IS 'The XBRL link \"role\" of the preferred label, using only the portion of the role URI after the last \"/\".';\n",
    "COMMENT ON COLUMN PRE.plabel IS 'The text presented on the line item, also known as a \"preferred\" label.';\n",
    "COMMENT ON COLUMN PRE.negating IS 'Flag to indicate whether the prole is treated as negating by the renderer.';"
   ]
  },
  {
   "cell_type": "markdown",
   "id": "ff1e2c73-ab70-4b7c-a538-5fe711a4fd17",
   "metadata": {},
   "source": [
    "##### Step 17: Creating NUM - Drop if it exists and then create the new NUM table in the database"
   ]
  },
  {
   "cell_type": "code",
   "execution_count": 17,
   "id": "adb4206f-4c94-4376-a8dc-ca0db3a52674",
   "metadata": {},
   "outputs": [
    {
     "name": "stdout",
     "output_type": "stream",
     "text": [
      " * postgresql://student@/DMA_G6\n",
      "Done.\n",
      "Done.\n"
     ]
    },
    {
     "data": {
      "text/plain": [
       "[]"
      ]
     },
     "execution_count": 17,
     "metadata": {},
     "output_type": "execute_result"
    }
   ],
   "source": [
    "%%sql\n",
    "DROP TABLE IF EXISTS NUM CASCADE;\n",
    "CREATE TABLE NUM (\n",
    "    adsh VARCHAR(20) NOT NULL,           -- Accession Number, references SUB table\n",
    "    tag VARCHAR(256) NOT NULL,           -- Tag name, references TAG table\n",
    "    version VARCHAR(20) NOT NULL,        -- Taxonomy version or accession number\n",
    "    ddate DATE NOT NULL,                 -- End date for the data value\n",
    "    qtrs NUMERIC(8) NOT NULL,            -- Number of quarters\n",
    "    uom VARCHAR(20) NOT NULL,            -- Unit of measure for the value\n",
    "    dimh CHAR(34) NOT NULL,              -- Dimension hash, references DIM table\n",
    "    iprx NUMERIC(2) NOT NULL,            -- Positive integer to distinguish different facts\n",
    "    value NUMERIC(30,4),                 -- Value rounded to four decimal places\n",
    "    footnote VARCHAR(512),               -- Footnote text\n",
    "    footlen NUMERIC(6,0) NOT NULL,         -- Footnote text length\n",
    "    dimn NUMERIC(1) NOT NULL,            -- Number of dimensions\n",
    "    coreg VARCHAR(256),                  -- Co-registrant or parent company\n",
    "    durp REAL NOT NULL,                  -- Difference between fact duration and quarter duration\n",
    "    datp REAL NOT NULL,                  -- Difference between reported fact date and month-end date\n",
    "    dcml NUMERIC(5,0) NOT NULL,          -- Decimal precision\n",
    "\n",
    "    PRIMARY KEY (adsh, tag, version, ddate, qtrs, uom, dimh, iprx),\n",
    "\n",
    "    -- Foreign Key References\n",
    "    FOREIGN KEY (adsh) REFERENCES SUB(adsh),\n",
    "    FOREIGN KEY (tag, version) REFERENCES TAG(tag, version),\n",
    "    FOREIGN KEY (dimh) REFERENCES DIM(dimh)  -- Assuming DIM table exists and has dimh as PK\n",
    ");"
   ]
  },
  {
   "cell_type": "markdown",
   "id": "72a071e4-acae-4bfd-baa8-804412b01343",
   "metadata": {},
   "source": [
    "##### Step 18: Add comments on NUM table and all of its attributes"
   ]
  },
  {
   "cell_type": "code",
   "execution_count": 18,
   "id": "ff80e120-2655-4ad3-9e0e-a4f575f69d65",
   "metadata": {},
   "outputs": [
    {
     "name": "stdout",
     "output_type": "stream",
     "text": [
      " * postgresql://student@/DMA_G6\n",
      "Done.\n",
      "Done.\n",
      "Done.\n",
      "Done.\n",
      "Done.\n",
      "Done.\n",
      "Done.\n",
      "Done.\n",
      "Done.\n",
      "Done.\n",
      "Done.\n",
      "Done.\n",
      "Done.\n",
      "Done.\n",
      "Done.\n",
      "Done.\n",
      "Done.\n"
     ]
    },
    {
     "data": {
      "text/plain": [
       "[]"
      ]
     },
     "execution_count": 18,
     "metadata": {},
     "output_type": "execute_result"
    }
   ],
   "source": [
    "%%sql\n",
    "\n",
    "-- Comment on NUM table\n",
    "COMMENT ON TABLE NUM IS 'Number data set; this includes one row for each distinct amount from each submission included in the SUB data set. The Number data set includes, for every submission, all line item values as rendered by the Commission Viewer/Previewer.';\n",
    "\n",
    "-- Comment on attributes of NUM table\n",
    "COMMENT ON COLUMN NUM.adsh IS 'Accession Number. The 20-character string formed from the 18-digit number assigned by the Commission to each EDGAR submission.';\n",
    "COMMENT ON COLUMN NUM.tag IS 'The unique identifier (name) for a tag in a specific taxonomy release.';\n",
    "COMMENT ON COLUMN NUM.version IS 'For a standard tag, an identifier for the taxonomy; otherwise the accession number where the tag was defined.';\n",
    "COMMENT ON COLUMN NUM.ddate IS 'The end date for the data value, rounded to the nearest month end.';\n",
    "COMMENT ON COLUMN NUM.qtrs IS 'The count of the number of quarters represented by the data value, rounded to the nearest whole number. \"0\" indicates it is a point-in-time value.';\n",
    "COMMENT ON COLUMN NUM.uom IS 'The unit of measure for the value.';\n",
    "COMMENT ON COLUMN NUM.dimh IS 'The 32-byte hexadecimal key for the dimensional information in the DIM data set.';\n",
    "COMMENT ON COLUMN NUM.iprx IS 'A positive integer to distinguish different reported facts that otherwise would have the same primary key. For most purposes, data with iprx greater than 1 are not needed.';\n",
    "COMMENT ON COLUMN NUM.value IS 'The value. This is not scaled, it is as found in the Interactive Data file, but is rounded to four digits to the right of the decimal point.';\n",
    "COMMENT ON COLUMN NUM.footnote IS 'The plain text of any superscripted footnotes on the value, if any, as shown on the statement page, truncated to 512 characters.';\n",
    "COMMENT ON COLUMN NUM.footlen IS 'Number of bytes in the plain text of the footnote prior to truncation; zero if no footnote.';\n",
    "COMMENT ON COLUMN NUM.dimn IS 'Small integer representing the number of dimensions. Note that this value is a function of the dimension segments.';\n",
    "COMMENT ON COLUMN NUM.coreg IS 'If specified, indicates a specific co-registrant, the parent company, or other entity (e.g., guarantor). NULL indicates the consolidated entity.';\n",
    "COMMENT ON COLUMN NUM.durp IS 'The difference between the reported fact duration and the quarter duration (qtrs), expressed as a fraction of 1.';\n",
    "COMMENT ON COLUMN NUM.datp IS 'The difference between the reported fact date and the month-end rounded date (ddate), expressed as a fraction of 1.';\n",
    "COMMENT ON COLUMN NUM.dcml IS 'The value of the fact \"decimals\" attribute, with INF represented by 32767.';"
   ]
  },
  {
   "cell_type": "markdown",
   "id": "d3d96603-5606-41ef-9be4-1b67302db059",
   "metadata": {},
   "source": [
    "##### Step 19: Creating TXT - Drop if it exists and then create the new TXT table in the database"
   ]
  },
  {
   "cell_type": "code",
   "execution_count": 19,
   "id": "5603ca3c-f4c2-48d0-b3cf-ba6d521a61a0",
   "metadata": {},
   "outputs": [
    {
     "name": "stdout",
     "output_type": "stream",
     "text": [
      " * postgresql://student@/DMA_G6\n",
      "Done.\n",
      "Done.\n"
     ]
    },
    {
     "data": {
      "text/plain": [
       "[]"
      ]
     },
     "execution_count": 19,
     "metadata": {},
     "output_type": "execute_result"
    }
   ],
   "source": [
    "%%sql\n",
    "DROP TABLE IF EXISTS TXT CASCADE;\n",
    "\n",
    "CREATE TABLE TXT (\n",
    "    adsh VARCHAR(20) NOT NULL,               -- Accession Number (references SUB table)\n",
    "    tag VARCHAR(256) NOT NULL,               -- Tag name (references TAG table)\n",
    "    version VARCHAR(20) NOT NULL,            -- Taxonomy version (references TAG table)\n",
    "    ddate DATE NOT NULL,                     -- Date related to the fact\n",
    "    qtrs NUMERIC(8) NOT NULL,                -- Number of quarters\n",
    "    iprx NUMERIC(3) NOT NULL,                -- Identifier to distinguish different facts\n",
    "    lang VARCHAR(5) NOT NULL,                -- ISO language code\n",
    "    dcml NUMERIC(5) NOT NULL,                -- Decimal accuracy\n",
    "    durp REAL NOT NULL,                      -- Duration difference\n",
    "    datp REAL NOT NULL,                      -- Date difference from month-end\n",
    "    dimh CHAR(64) NOT NULL,                  -- Dimension hash (references DIM table)\n",
    "    dimn NUMERIC(1) NULL,                    -- Number of dimensions (nullable)\n",
    "    coreg VARCHAR(256),                      -- Co-registrant (nullable)\n",
    "    escaped BOOLEAN NOT NULL,                -- Flag indicating if tags were removed\n",
    "    srclen NUMERIC(8) NOT NULL,              -- Length of the source text\n",
    "    txtlen NUMERIC(6),                       -- Length of whitespace-normalized text (nullable)\n",
    "    footnote VARCHAR(512),                   -- Footnote content (nullable)\n",
    "    footlen NUMERIC(4),                      -- Length of footnote content (nullable)\n",
    "    context VARCHAR(255) NOT NULL,           -- Context reference\n",
    "    value TEXT ,                             -- Text value for the tag\n",
    "\n",
    "    PRIMARY KEY (adsh, tag, version, ddate, qtrs, dimh, iprx), -- Composite primary key\n",
    "\n",
    "    -- Foreign Key Constraints\n",
    "    FOREIGN KEY (adsh) REFERENCES SUB(adsh),              -- Reference to SUB table\n",
    "    FOREIGN KEY (tag, version) REFERENCES TAG(tag, version), -- Reference to TAG table\n",
    "    FOREIGN KEY (dimh) REFERENCES DIM(dimh)               -- Reference to DIM table\n",
    ");"
   ]
  },
  {
   "cell_type": "markdown",
   "id": "9d99f2e6-1dd6-4ec6-82c3-0eaf2752419c",
   "metadata": {},
   "source": [
    "##### Step 20: Add comments on TXT table and all of its attributes"
   ]
  },
  {
   "cell_type": "code",
   "execution_count": 20,
   "id": "5e37e4f1-a9f1-41bf-b2ab-81b4f94c9be9",
   "metadata": {},
   "outputs": [
    {
     "name": "stdout",
     "output_type": "stream",
     "text": [
      " * postgresql://student@/DMA_G6\n",
      "Done.\n",
      "Done.\n",
      "Done.\n",
      "Done.\n",
      "Done.\n",
      "Done.\n",
      "Done.\n",
      "Done.\n",
      "Done.\n",
      "Done.\n",
      "Done.\n",
      "Done.\n",
      "Done.\n",
      "Done.\n",
      "Done.\n",
      "Done.\n",
      "Done.\n",
      "Done.\n",
      "Done.\n",
      "Done.\n",
      "Done.\n"
     ]
    },
    {
     "data": {
      "text/plain": [
       "[]"
      ]
     },
     "execution_count": 20,
     "metadata": {},
     "output_type": "execute_result"
    }
   ],
   "source": [
    "%%sql\n",
    "\n",
    "-- Comment on TXT table\n",
    "COMMENT ON TABLE TXT IS 'Text data set; this is the plain text of all the non-numeric tagged items in the submission.';\n",
    "\n",
    "-- Comment on attributes of TXT table\n",
    "COMMENT ON COLUMN TXT.adsh IS 'Accession Number. The 20-character string formed from the 18-digit number assigned by the Commission to each EDGAR submission.';\n",
    "COMMENT ON COLUMN TXT.tag IS 'The unique identifier (name) for a tag in a specific taxonomy release.';\n",
    "COMMENT ON COLUMN TXT.version IS 'For a standard tag, an identifier for the taxonomy; otherwise the accession number where the tag was defined.';\n",
    "COMMENT ON COLUMN TXT.ddate IS 'The end date for the data value, rounded to the nearest month end.';\n",
    "COMMENT ON COLUMN TXT.qtrs IS 'The count of the number of quarters represented by the data value, rounded to the nearest whole number. A point in time value is represented by 0.';\n",
    "COMMENT ON COLUMN TXT.iprx IS 'A positive integer to distinguish different reported facts that otherwise would have the same primary key. For most purposes, data with iprx greater than 1 are not needed.';\n",
    "COMMENT ON COLUMN TXT.lang IS 'The ISO language code of the fact content.';\n",
    "COMMENT ON COLUMN TXT.dcml IS 'The value of the fact \"xml:lang\" attribute, en-US represented by 32767, other \"en\" dialects having lower values, and other languages lower still.';\n",
    "COMMENT ON COLUMN TXT.durp IS 'The difference between the reported fact duration and the quarter duration (qtrs), expressed as a fraction of 1.';\n",
    "COMMENT ON COLUMN TXT.datp IS 'The difference between the reported fact date and the month-end rounded date (ddate), expressed as a fraction of 1.';\n",
    "COMMENT ON COLUMN TXT.dimh IS 'The 32-byte hexadecimal key for the dimensional information in the DIM data set.';\n",
    "COMMENT ON COLUMN TXT.dimn IS 'Small integer representing the number of dimensions, useful for sorting. Note that this value is function of the dimension segments.';\n",
    "COMMENT ON COLUMN TXT.coreg IS 'If specified, indicates a specific co-registrant, the parent company, or other entity (e.g., guarantor). NULL indicates the consolidated entity.';\n",
    "COMMENT ON COLUMN TXT.escaped IS 'Flag indicating whether the value has had tags removed.';\n",
    "COMMENT ON COLUMN TXT.srclen IS 'Number of bytes in the original, unprocessed value. Zero indicates a NULL value.';\n",
    "COMMENT ON COLUMN TXT.txtlen IS 'The original length of the whitespace normalized value, which may have been greater than 8192.';\n",
    "COMMENT ON COLUMN TXT.footnote IS 'The plain text of any superscripted footnotes on the value, as shown on the page, truncated to 512 characters, or if there is no footnote, then this field will be blank.';\n",
    "COMMENT ON COLUMN TXT.footlen IS 'Number of bytes in the plain text of the footnote prior to truncation.';\n",
    "COMMENT ON COLUMN TXT.context IS 'The value of the contextRef attribute in the source XBRL document, which can be used to recover the original HTML tagging if desired.';\n",
    "COMMENT ON COLUMN TXT.value IS 'The value, with all whitespace normalized, that is, all sequences of line feeds, carriage returns, tabs, non-breaking spaces, and spaces having been collapsed to a single space.';"
   ]
  },
  {
   "cell_type": "markdown",
   "id": "2eeca9a9-a95b-4f1b-a7ff-2c293545577d",
   "metadata": {},
   "source": [
    "##### Step 21: Creating CAL - Drop if it exists and then create the new CAL table in the database"
   ]
  },
  {
   "cell_type": "code",
   "execution_count": 21,
   "id": "ecb8e79c-bfb9-4d69-9a5c-7d24dc7990e4",
   "metadata": {},
   "outputs": [
    {
     "name": "stdout",
     "output_type": "stream",
     "text": [
      " * postgresql://student@/DMA_G6\n",
      "Done.\n",
      "Done.\n"
     ]
    },
    {
     "data": {
      "text/plain": [
       "[]"
      ]
     },
     "execution_count": 21,
     "metadata": {},
     "output_type": "execute_result"
    }
   ],
   "source": [
    "%%sql\n",
    "DROP TABLE IF EXISTS CAL CASCADE;\n",
    "\n",
    "CREATE TABLE CAL(\n",
    "    adsh VARCHAR(20) NOT NULL,                 -- Accession Number, 20-character string\n",
    "    grp NUMERIC(3,0) NOT NULL,                 -- Sequential number for grouping arcs in a submission\n",
    "    arc NUMERIC(3,0) NOT NULL,                 -- Sequential number for arcs within a group in a submission\n",
    "    negative SMALLINT NOT NULL,                -- Indicates a weight of -1 (SMALLINT to accommodate -1)\n",
    "    ptag VARCHAR(256) NOT NULL,                -- Tag for the parent of the arc\n",
    "    pversion VARCHAR(20) NOT NULL,             -- Version of the tag for the parent of the arc\n",
    "    ctag VARCHAR(256) NOT NULL,                -- Tag for the child of the arc\n",
    "    cversion VARCHAR(20) NOT NULL,             -- Version of the tag for the child of the arc\n",
    "\n",
    "    PRIMARY KEY (adsh, grp, arc),              -- Composite primary key\n",
    "\n",
    "    -- Foreign Key Constraints\n",
    "    FOREIGN KEY (adsh) REFERENCES SUB(adsh),                -- References adsh in SUB\n",
    "    FOREIGN KEY (ptag, pversion) REFERENCES TAG(tag, version), -- References tag, version in TAG\n",
    "    FOREIGN KEY (ctag, cversion) REFERENCES TAG(tag, version)  -- References tag, version in TAG\n",
    ");"
   ]
  },
  {
   "cell_type": "markdown",
   "id": "64949ee2-d14e-4660-83d5-4c172c5d05b4",
   "metadata": {},
   "source": [
    "##### Step 22: Add comments on CAL table and all of its attributes"
   ]
  },
  {
   "cell_type": "code",
   "execution_count": 22,
   "id": "c01496e0-d4bc-40dc-bfef-8f4d5689761c",
   "metadata": {},
   "outputs": [
    {
     "name": "stdout",
     "output_type": "stream",
     "text": [
      " * postgresql://student@/DMA_G6\n",
      "Done.\n",
      "Done.\n",
      "Done.\n",
      "Done.\n",
      "Done.\n",
      "Done.\n",
      "Done.\n",
      "Done.\n",
      "Done.\n"
     ]
    },
    {
     "data": {
      "text/plain": [
       "[]"
      ]
     },
     "execution_count": 22,
     "metadata": {},
     "output_type": "execute_result"
    }
   ],
   "source": [
    "%%sql\n",
    "\n",
    "-- Comment on CAL table\n",
    "COMMENT ON TABLE CAL IS 'Calculation data set; provides information to arithmetically relate tags in a filing.';\n",
    "\n",
    "-- Comment on attributes of CAL table\n",
    "COMMENT ON COLUMN CAL.adsh IS 'Accession Number. The 20-character string formed from the 18-digit number assigned by the Commission to each EDGAR submission.';\n",
    "COMMENT ON COLUMN CAL.grp IS 'Sequential number for grouping arcs in a submission.';\n",
    "COMMENT ON COLUMN CAL.arc IS 'Sequential number for arcs within a group in a submission.';\n",
    "COMMENT ON COLUMN CAL.negative IS 'Indicates a weight of -1 (TRUE if the arc is negative), but typically +1 (FALSE).';\n",
    "COMMENT ON COLUMN CAL.ptag IS 'The tag for the parent of the arc.';\n",
    "COMMENT ON COLUMN CAL.pversion IS 'The version of the tag for the parent of the arc.';\n",
    "COMMENT ON COLUMN CAL.ctag IS 'The tag for the child of the arc.';\n",
    "COMMENT ON COLUMN CAL.cversion IS 'The version of the tag for the child of the arc.';"
   ]
  },
  {
   "cell_type": "markdown",
   "id": "29917a3a-712f-4498-9128-38cc4d08fd4f",
   "metadata": {},
   "source": [
    "#### Step 23: Loading the data from the website"
   ]
  },
  {
   "cell_type": "code",
   "execution_count": 23,
   "id": "c229b96f-9e3e-4cfe-ba44-584e2967e48d",
   "metadata": {},
   "outputs": [
    {
     "name": "stdout",
     "output_type": "stream",
     "text": [
      "--2024-10-28 07:34:12--  https://www.sec.gov/files/dera/data/financial-statement-notes-data-sets/2024_01_notes.zip\n",
      "Resolving www.sec.gov (www.sec.gov)... 184.25.36.101, 2600:1408:20:a8c::17b2, 2600:1408:20:aba::17b2\n",
      "Connecting to www.sec.gov (www.sec.gov)|184.25.36.101|:443... connected.\n",
      "HTTP request sent, awaiting response... 403 Forbidden\n",
      "2024-10-28 07:34:12 ERROR 403: Forbidden.\n",
      "\n"
     ]
    }
   ],
   "source": [
    "!wget -O 2024_01_SEC.zip https://www.sec.gov/files/dera/data/financial-statement-notes-data-sets/2024_01_notes.zip"
   ]
  },
  {
   "cell_type": "markdown",
   "id": "2e28e104-ac73-4600-8daa-33e9e584f690",
   "metadata": {},
   "source": [
    "**A 403 Forbidden error is an HTTP status code that means you do not have permission to access the requested resource. This error occurs when the web server understands the request but refuses to authorize it.**"
   ]
  },
  {
   "cell_type": "markdown",
   "id": "3b536595-a447-4157-a849-91b5508791da",
   "metadata": {},
   "source": [
    "#### Step 24: Loading the zip files and unzipping them into new folders.\n",
    "**Since we could not load the data from the website we are following the approach of downloading the file for each year and unziping them into new folders.**\n",
    "\n",
    "**The files to be unzipped are named as below**\n",
    "* 2024_01_notes.zip\n",
    "* 2024_02_notes.zip\n",
    "* 2024_03_notes.zip\n",
    "* 2024_04_notes.zip\n",
    "\n",
    "We have used the data of 4 months for our analysis\n",
    "\n",
    "**Code Explanation**\n",
    "\n",
    "**!unzip**: Used to unzip the zip files.\n",
    "\n",
    "**-o**: This flag stands for \"overwrite.\"\n",
    "\n",
    "-o is followed by the name of the zip file that needs to be unzipped. For example, the first line of code shows \"2024_01_notes.zip\".\n",
    "\n",
    "**-d**: The -d flag specifies the destination directory where the contents will be extracted."
   ]
  },
  {
   "cell_type": "code",
   "execution_count": 24,
   "id": "160706c1-54dd-4eb0-8f18-1d86e01f5a28",
   "metadata": {},
   "outputs": [
    {
     "name": "stdout",
     "output_type": "stream",
     "text": [
      "Archive:  2024_01_notes.zip\n",
      "  inflating: ./Jan24/sub.tsv         \n",
      "  inflating: ./Jan24/tag.tsv         \n",
      "  inflating: ./Jan24/dim.tsv         \n",
      "  inflating: ./Jan24/ren.tsv         \n",
      "  inflating: ./Jan24/cal.tsv         \n",
      "  inflating: ./Jan24/pre.tsv         \n",
      "  inflating: ./Jan24/num.tsv         \n",
      "  inflating: ./Jan24/txt.tsv         \n",
      "  inflating: ./Jan24/readme.htm      \n",
      "  inflating: ./Jan24/notes-metadata.json  \n",
      "Archive:  2024_02_notes.zip\n",
      "  inflating: ./Feb24/sub.tsv         \n",
      "  inflating: ./Feb24/tag.tsv         \n",
      "  inflating: ./Feb24/dim.tsv         \n",
      "  inflating: ./Feb24/ren.tsv         \n",
      "  inflating: ./Feb24/cal.tsv         \n",
      "  inflating: ./Feb24/pre.tsv         \n",
      "  inflating: ./Feb24/num.tsv         \n",
      "  inflating: ./Feb24/txt.tsv         \n",
      "  inflating: ./Feb24/readme.htm      \n",
      "  inflating: ./Feb24/notes-metadata.json  \n",
      "Archive:  2024_03_notes.zip\n",
      "  inflating: ./Mar24/sub.tsv         \n",
      "  inflating: ./Mar24/tag.tsv         \n",
      "  inflating: ./Mar24/dim.tsv         \n",
      "  inflating: ./Mar24/ren.tsv         \n",
      "  inflating: ./Mar24/cal.tsv         \n",
      "  inflating: ./Mar24/pre.tsv         \n",
      "  inflating: ./Mar24/num.tsv         \n",
      "  inflating: ./Mar24/txt.tsv         \n",
      "  inflating: ./Mar24/readme.htm      \n",
      "  inflating: ./Mar24/notes-metadata.json  \n",
      "Archive:  2024_04_notes.zip\n",
      "  inflating: ./Apr24/sub.tsv         \n",
      "  inflating: ./Apr24/tag.tsv         \n",
      "  inflating: ./Apr24/dim.tsv         \n",
      "  inflating: ./Apr24/ren.tsv         \n",
      "  inflating: ./Apr24/cal.tsv         \n",
      "  inflating: ./Apr24/pre.tsv         \n",
      "  inflating: ./Apr24/num.tsv         \n",
      "  inflating: ./Apr24/txt.tsv         \n",
      "  inflating: ./Apr24/readme.htm      \n",
      "  inflating: ./Apr24/notes-metadata.json  \n"
     ]
    }
   ],
   "source": [
    "!unzip -o 2024_01_notes.zip -d ./Jan24/\n",
    "!unzip -o 2024_02_notes.zip -d ./Feb24/\n",
    "!unzip -o 2024_03_notes.zip -d ./Mar24/\n",
    "!unzip -o 2024_04_notes.zip -d ./Apr24/"
   ]
  },
  {
   "cell_type": "markdown",
   "id": "60cfcd78-78fb-400a-8862-d96c97c11fd5",
   "metadata": {},
   "source": [
    "#### Step 25: Deleting the zip files\n",
    "* We do this to ensure that the zip files are cleared for better storage management.\n",
    "* `!rm` is the code we use to remove the zip files. "
   ]
  },
  {
   "cell_type": "code",
   "execution_count": 25,
   "id": "62bfe88c-d90e-48c9-bc39-568a39fed1cc",
   "metadata": {},
   "outputs": [],
   "source": [
    "!rm 2024_01_notes.zip\n",
    "!rm 2024_02_notes.zip\n",
    "!rm 2024_03_notes.zip\n",
    "!rm 2024_04_notes.zip"
   ]
  },
  {
   "cell_type": "markdown",
   "id": "36e7e057-629f-4616-b96b-cc830daa7766",
   "metadata": {},
   "source": [
    "#### Step 26: Importing the essential libraries and increasing the field size\n",
    "\n",
    "**Imports the csv module: This module provides functionality to work with CSV (Comma Separated Values) files**\n",
    "\n",
    "**Imports the sys module: This module provides access to system-specific parameters and functions, one of which is sys.maxsize.**\n",
    "\n",
    "**csv.field_size_limit(sys.maxsize) - This line sets the maximum allowed size for individual fields within a CSV file to sys.maxsize, which is the largest positive integer that the system can handle**"
   ]
  },
  {
   "cell_type": "code",
   "execution_count": 26,
   "id": "3420bc5b-02ed-4ffd-94e5-2bb355859f2e",
   "metadata": {},
   "outputs": [
    {
     "data": {
      "text/plain": [
       "131072"
      ]
     },
     "execution_count": 26,
     "metadata": {},
     "output_type": "execute_result"
    }
   ],
   "source": [
    "import csv\n",
    "import sys\n",
    "csv.field_size_limit(sys.maxsize)"
   ]
  },
  {
   "cell_type": "markdown",
   "id": "d0d5fb31-2ebe-4da3-b479-bb9841830854",
   "metadata": {},
   "source": [
    "#### Step 27: Converting all tsv files into csv format and giving the count for all \n",
    "* We convert the files from tsv to csv for better analysis.\n",
    "\n",
    "**Code Explanation**\n",
    "* `!csvformat -d $'\\t` File_To_Be_Converted.tsv > Give_File_Name.csv - gives us the csv files, where\n",
    "* `-d` is the delimiter and `$'\\t'` indicates that the tsv file has tab seperated values.\n",
    "* `!echo` is used to count the number of lines in the file. (We run this code to ensure that our conversion has no missed values/data)"
   ]
  },
  {
   "cell_type": "code",
   "execution_count": 27,
   "id": "20484bf9-bf38-4192-aed9-807e3aa7c3c7",
   "metadata": {},
   "outputs": [],
   "source": [
    "# For all SUB files\n",
    "!csvformat -d $'\\t' Jan24/sub.tsv > Jan24/sub_1.csv\n",
    "!csvformat -d $'\\t' Feb24/sub.tsv > Feb24/sub_2.csv\n",
    "!csvformat -d $'\\t' Mar24/sub.tsv > Mar24/sub_3.csv\n",
    "!csvformat -d $'\\t' Apr24/sub.tsv > Apr24/sub_4.csv"
   ]
  },
  {
   "cell_type": "code",
   "execution_count": 28,
   "id": "af3e817a-4bd8-4a7e-b122-a9edb3ad75a6",
   "metadata": {},
   "outputs": [
    {
     "name": "stdout",
     "output_type": "stream",
     "text": [
      "5905 Jan24/sub.tsv 5905 Jan24/sub_1.csv\n",
      "9401 Feb24/sub.tsv 9401 Feb24/sub_2.csv\n",
      "9033 Mar24/sub.tsv 9033 Mar24/sub_3.csv\n",
      "9635 Apr24/sub.tsv 9635 Apr24/sub_4.csv\n"
     ]
    }
   ],
   "source": [
    "!echo \"$(wc -l Jan24/sub.tsv) $(wc -l Jan24/sub_1.csv)\"\n",
    "!echo \"$(wc -l Feb24/sub.tsv) $(wc -l Feb24/sub_2.csv)\"\n",
    "!echo \"$(wc -l Mar24/sub.tsv) $(wc -l Mar24/sub_3.csv)\"\n",
    "!echo \"$(wc -l Apr24/sub.tsv) $(wc -l Apr24/sub_4.csv)\""
   ]
  },
  {
   "cell_type": "code",
   "execution_count": 29,
   "id": "0b075d66-bf12-4d7b-92ae-1d8cf37d0650",
   "metadata": {},
   "outputs": [],
   "source": [
    "# For all TAG files\n",
    "!csvformat -d $'\\t' Jan24/tag.tsv > Jan24/tag_1.csv\n",
    "!csvformat -d $'\\t' Feb24/tag.tsv > Feb24/tag_2.csv\n",
    "!csvformat -d $'\\t' Mar24/tag.tsv > Mar24/tag_3.csv\n",
    "!csvformat -d $'\\t' Apr24/tag.tsv > Apr24/tag_4.csv"
   ]
  },
  {
   "cell_type": "code",
   "execution_count": 30,
   "id": "866bc166-87db-47ca-9d4f-97d8a7b03b2f",
   "metadata": {},
   "outputs": [
    {
     "name": "stdout",
     "output_type": "stream",
     "text": [
      "84277 Jan24/tag.tsv 84277 Jan24/tag_1.csv\n",
      "534847 Feb24/tag.tsv 534847 Feb24/tag_2.csv\n",
      "420503 Mar24/tag.tsv 420503 Mar24/tag_3.csv\n",
      "367714 Apr24/tag.tsv 367714 Apr24/tag_4.csv\n"
     ]
    }
   ],
   "source": [
    "!echo \"$(wc -l Jan24/tag.tsv) $(wc -l Jan24/tag_1.csv)\"\n",
    "!echo \"$(wc -l Feb24/tag.tsv) $(wc -l Feb24/tag_2.csv)\"\n",
    "!echo \"$(wc -l Mar24/tag.tsv) $(wc -l Mar24/tag_3.csv)\"\n",
    "!echo \"$(wc -l Apr24/tag.tsv) $(wc -l Apr24/tag_4.csv)\""
   ]
  },
  {
   "cell_type": "code",
   "execution_count": 31,
   "id": "69ffd4dd-b143-44c5-9809-ebd1fdcb1ff3",
   "metadata": {},
   "outputs": [],
   "source": [
    "# For all DIM files\n",
    "!csvformat -d $'\\t' Jan24/dim.tsv > Jan24/dim_1.csv\n",
    "!csvformat -d $'\\t' Feb24/dim.tsv > Feb24/dim_2.csv\n",
    "!csvformat -d $'\\t' Mar24/dim.tsv > Mar24/dim_3.csv\n",
    "!csvformat -d $'\\t' Apr24/dim.tsv > Apr24/dim_4.csv"
   ]
  },
  {
   "cell_type": "code",
   "execution_count": 32,
   "id": "f6afcf9c-50d6-41a1-bc8b-fa7ef62e919d",
   "metadata": {},
   "outputs": [
    {
     "name": "stdout",
     "output_type": "stream",
     "text": [
      "43202 Jan24/dim.tsv 43202 Jan24/dim_1.csv\n",
      "430720 Feb24/dim.tsv 430720 Feb24/dim_2.csv\n",
      "277938 Mar24/dim.tsv 277938 Mar24/dim_3.csv\n",
      "218979 Apr24/dim.tsv 218979 Apr24/dim_4.csv\n"
     ]
    }
   ],
   "source": [
    "!echo \"$(wc -l Jan24/dim.tsv) $(wc -l Jan24/dim_1.csv)\"\n",
    "!echo \"$(wc -l Feb24/dim.tsv) $(wc -l Feb24/dim_2.csv)\"\n",
    "!echo \"$(wc -l Mar24/dim.tsv) $(wc -l Mar24/dim_3.csv)\"\n",
    "!echo \"$(wc -l Apr24/dim.tsv) $(wc -l Apr24/dim_4.csv)\""
   ]
  },
  {
   "cell_type": "code",
   "execution_count": 33,
   "id": "9d6d06d2-2e31-41ca-8e12-ecce3c74caa2",
   "metadata": {},
   "outputs": [],
   "source": [
    "# For all REN files\n",
    "!csvformat -d $'\\t' Jan24/ren.tsv > Jan24/ren_1.csv\n",
    "!csvformat -d $'\\t' Feb24/ren.tsv > Feb24/ren_2.csv\n",
    "!csvformat -d $'\\t' Mar24/ren.tsv > Mar24/ren_3.csv\n",
    "!csvformat -d $'\\t' Apr24/ren.tsv > Apr24/ren_4.csv"
   ]
  },
  {
   "cell_type": "code",
   "execution_count": 34,
   "id": "fb80b8dc-fe03-476e-993d-847f8eff0f24",
   "metadata": {},
   "outputs": [
    {
     "name": "stdout",
     "output_type": "stream",
     "text": [
      "39110 Jan24/ren.tsv 39110 Jan24/ren_1.csv\n",
      "275354 Feb24/ren.tsv 275354 Feb24/ren_2.csv\n",
      "205022 Mar24/ren.tsv 205022 Mar24/ren_3.csv\n",
      "162200 Apr24/ren.tsv 162200 Apr24/ren_4.csv\n"
     ]
    }
   ],
   "source": [
    "!echo \"$(wc -l Jan24/ren.tsv) $(wc -l Jan24/ren_1.csv)\"\n",
    "!echo \"$(wc -l Feb24/ren.tsv) $(wc -l Feb24/ren_2.csv)\"\n",
    "!echo \"$(wc -l Mar24/ren.tsv) $(wc -l Mar24/ren_3.csv)\"\n",
    "!echo \"$(wc -l Apr24/ren.tsv) $(wc -l Apr24/ren_4.csv)\""
   ]
  },
  {
   "cell_type": "code",
   "execution_count": 35,
   "id": "6b01816e-0603-4e1b-b155-05838520b761",
   "metadata": {},
   "outputs": [],
   "source": [
    "# For all PRE files\n",
    "!csvformat -d $'\\t' Jan24/pre.tsv > Jan24/pre_1.csv\n",
    "!csvformat -d $'\\t' Feb24/pre.tsv > Feb24/pre_2.csv\n",
    "!csvformat -d $'\\t' Mar24/pre.tsv > Mar24/pre_3.csv\n",
    "!csvformat -d $'\\t' Apr24/pre.tsv > Apr24/pre_4.csv"
   ]
  },
  {
   "cell_type": "code",
   "execution_count": 36,
   "id": "4a79d587-9f13-4393-bf6f-9affaf419acd",
   "metadata": {},
   "outputs": [
    {
     "name": "stdout",
     "output_type": "stream",
     "text": [
      "511414 Jan24/pre.tsv 511414 Jan24/pre_1.csv\n",
      "3349317 Feb24/pre.tsv 3349317 Feb24/pre_2.csv\n",
      "2414129 Mar24/pre.tsv 2414129 Mar24/pre_3.csv\n",
      "1892638 Apr24/pre.tsv 1892638 Apr24/pre_4.csv\n"
     ]
    }
   ],
   "source": [
    "!echo \"$(wc -l Jan24/pre.tsv) $(wc -l Jan24/pre_1.csv)\"\n",
    "!echo \"$(wc -l Feb24/pre.tsv) $(wc -l Feb24/pre_2.csv)\"\n",
    "!echo \"$(wc -l Mar24/pre.tsv) $(wc -l Mar24/pre_3.csv)\"\n",
    "!echo \"$(wc -l Apr24/pre.tsv) $(wc -l Apr24/pre_4.csv)\""
   ]
  },
  {
   "cell_type": "code",
   "execution_count": 37,
   "id": "33a5a2f1-1e07-4eac-881d-b65c2a101539",
   "metadata": {},
   "outputs": [],
   "source": [
    "# For all NUM files\n",
    "!csvformat -d $'\\t' Jan24/num.tsv > Jan24/num_1.csv\n",
    "!csvformat -d $'\\t' Feb24/num.tsv > Feb24/num_2.csv\n",
    "!csvformat -d $'\\t' Mar24/num.tsv > Mar24/num_3.csv\n",
    "!csvformat -d $'\\t' Apr24/num.tsv > Apr24/num_4.csv"
   ]
  },
  {
   "cell_type": "code",
   "execution_count": 38,
   "id": "3e71c2c3-6850-41d9-878f-2187323f9746",
   "metadata": {},
   "outputs": [
    {
     "name": "stdout",
     "output_type": "stream",
     "text": [
      "598844 Jan24/num.tsv 598844 Jan24/num_1.csv\n",
      "5206930 Feb24/num.tsv 5206930 Feb24/num_2.csv\n",
      "3291027 Mar24/num.tsv 3291027 Mar24/num_3.csv\n",
      "2517965 Apr24/num.tsv 2517965 Apr24/num_4.csv\n"
     ]
    }
   ],
   "source": [
    "!echo \"$(wc -l Jan24/num.tsv) $(wc -l Jan24/num_1.csv)\"\n",
    "!echo \"$(wc -l Feb24/num.tsv) $(wc -l Feb24/num_2.csv)\"\n",
    "!echo \"$(wc -l Mar24/num.tsv) $(wc -l Mar24/num_3.csv)\"\n",
    "!echo \"$(wc -l Apr24/num.tsv) $(wc -l Apr24/num_4.csv)\""
   ]
  },
  {
   "cell_type": "code",
   "execution_count": 39,
   "id": "e07abfdc-d018-4471-b269-2094c82a877d",
   "metadata": {},
   "outputs": [
    {
     "name": "stdout",
     "output_type": "stream",
     "text": [
      "FieldSizeLimitError: CSV contains a field longer than the maximum length of 131072 characters on line 16247. Try raising the maximum with the field_size_limit parameter, or try setting quoting=csv.QUOTE_NONE.\n",
      "FieldSizeLimitError: CSV contains a field longer than the maximum length of 131072 characters on line 28035. Try raising the maximum with the field_size_limit parameter, or try setting quoting=csv.QUOTE_NONE.\n",
      "FieldSizeLimitError: CSV contains a field longer than the maximum length of 131072 characters on line 24385. Try raising the maximum with the field_size_limit parameter, or try setting quoting=csv.QUOTE_NONE.\n",
      "FieldSizeLimitError: CSV contains a field longer than the maximum length of 131072 characters on line 11186. Try raising the maximum with the field_size_limit parameter, or try setting quoting=csv.QUOTE_NONE.\n"
     ]
    }
   ],
   "source": [
    "# For all TXT files\n",
    "!csvformat -d $'\\t' Jan24/txt.tsv > Jan24/txt_1.csv\n",
    "!csvformat -d $'\\t' Feb24/txt.tsv > Feb24/txt_2.csv\n",
    "!csvformat -d $'\\t' Mar24/txt.tsv > Mar24/txt_3.csv\n",
    "!csvformat -d $'\\t' Apr24/txt.tsv > Apr24/txt_4.csv"
   ]
  },
  {
   "cell_type": "markdown",
   "id": "2c6bcdc9-c3f9-4966-a89b-26a8956b5ae7",
   "metadata": {},
   "source": [
    "The **FieldSizeLimitError** indicates that a field in the CSV file exceeds the maximum allowed character limit, hence we tackle the issue by following the below code which gives out the desired output."
   ]
  },
  {
   "cell_type": "code",
   "execution_count": 40,
   "id": "2ef94272-23e5-42ea-a5a1-86983c127a7c",
   "metadata": {},
   "outputs": [
    {
     "name": "stdout",
     "output_type": "stream",
     "text": [
      "Reading package lists... Done\n",
      "Building dependency tree       \n",
      "Reading state information... Done\n",
      "csvtool is already the newest version (2.4-1build1).\n",
      "0 upgraded, 0 newly installed, 0 to remove and 79 not upgraded.\n"
     ]
    }
   ],
   "source": [
    "#Installing the csvtool package\n",
    "!sudo apt-get install csvtool"
   ]
  },
  {
   "cell_type": "markdown",
   "id": "168503ba-89ac-4021-9a33-9d3ad5b7199c",
   "metadata": {},
   "source": [
    "**The following code is used to convert all .tsv files into .csv files**\n",
    "\n",
    "**-t TAB: Specifies that the input file is tab-separated.**\n",
    "\n",
    "**-u COMMA: Sets the output delimiter to a comma, making it a CSV format.**\n",
    "\n",
    "**cat: The cat command in csvtool reads and processes the input file.**"
   ]
  },
  {
   "cell_type": "code",
   "execution_count": 41,
   "id": "7c919f4c-2e2a-4cf8-9409-a1185795672c",
   "metadata": {},
   "outputs": [],
   "source": [
    "!csvtool -t TAB -u COMMA cat Jan24/txt.tsv > Jan24/txt_1.csv\n",
    "!csvtool -t TAB -u COMMA cat Feb24/txt.tsv > Feb24/txt_2.csv\n",
    "!csvtool -t TAB -u COMMA cat Mar24/txt.tsv > Mar24/txt_3.csv\n",
    "!csvtool -t TAB -u COMMA cat Apr24/txt.tsv > Apr24/txt_4.csv"
   ]
  },
  {
   "cell_type": "markdown",
   "id": "6a5fa11d-40b7-43e4-91e3-2fcc54ebe452",
   "metadata": {},
   "source": [
    "**!echo prints out the word count for the .tsv and .csv files.**"
   ]
  },
  {
   "cell_type": "code",
   "execution_count": 42,
   "id": "8b18006e-f368-4101-9e07-2fa7306aa457",
   "metadata": {},
   "outputs": [
    {
     "name": "stdout",
     "output_type": "stream",
     "text": [
      "204722 Jan24/txt.tsv 204722 Jan24/txt_1.csv\n",
      "678421 Feb24/txt.tsv 678421 Feb24/txt_2.csv\n",
      "555617 Mar24/txt.tsv 555617 Mar24/txt_3.csv\n",
      "485145 Apr24/txt.tsv 485145 Apr24/txt_4.csv\n"
     ]
    }
   ],
   "source": [
    "!echo \"$(wc -l Jan24/txt.tsv) $(wc -l Jan24/txt_1.csv)\"\n",
    "!echo \"$(wc -l Feb24/txt.tsv) $(wc -l Feb24/txt_2.csv)\"\n",
    "!echo \"$(wc -l Mar24/txt.tsv) $(wc -l Mar24/txt_3.csv)\"\n",
    "!echo \"$(wc -l Apr24/txt.tsv) $(wc -l Apr24/txt_4.csv)\""
   ]
  },
  {
   "cell_type": "code",
   "execution_count": 43,
   "id": "5aea372f-dd1a-4a5c-92d4-9eb299086387",
   "metadata": {},
   "outputs": [],
   "source": [
    "# For all CAL files\n",
    "!csvformat -d $'\\t' Jan24/cal.tsv > Jan24/cal_1.csv\n",
    "!csvformat -d $'\\t' Feb24/cal.tsv > Feb24/cal_2.csv\n",
    "!csvformat -d $'\\t' Mar24/cal.tsv > Mar24/cal_3.csv\n",
    "!csvformat -d $'\\t' Apr24/cal.tsv > Apr24/cal_4.csv"
   ]
  },
  {
   "cell_type": "code",
   "execution_count": 44,
   "id": "17d07137-945c-4590-ac96-e393475b46ee",
   "metadata": {},
   "outputs": [
    {
     "name": "stdout",
     "output_type": "stream",
     "text": [
      "52253 Jan24/cal.tsv 52253 Jan24/cal_1.csv\n",
      "490774 Feb24/cal.tsv 490774 Feb24/cal_2.csv\n",
      "335250 Mar24/cal.tsv 335250 Mar24/cal_3.csv\n",
      "244051 Apr24/cal.tsv 244051 Apr24/cal_4.csv\n"
     ]
    }
   ],
   "source": [
    "!echo \"$(wc -l Jan24/cal.tsv) $(wc -l Jan24/cal_1.csv)\"\n",
    "!echo \"$(wc -l Feb24/cal.tsv) $(wc -l Feb24/cal_2.csv)\"\n",
    "!echo \"$(wc -l Mar24/cal.tsv) $(wc -l Mar24/cal_3.csv)\"\n",
    "!echo \"$(wc -l Apr24/cal.tsv) $(wc -l Apr24/cal_4.csv)\""
   ]
  },
  {
   "cell_type": "markdown",
   "id": "8eecdc0d-e2b9-49a4-9001-bf1420b91c7c",
   "metadata": {},
   "source": [
    "#### Special Note: \n",
    "**The process from here is very extensive and can take sometime for the Kernel to process based on system speed. Please wait patiently and ensure to check the Kernal status time to time.**"
   ]
  },
  {
   "cell_type": "markdown",
   "id": "9bc6ffac-56a6-43b2-8ac1-40b6017f2636",
   "metadata": {},
   "source": [
    "#### Step 28: Stacking all 4 months csv files into a single file for each entity.\n",
    "\n",
    "**Code Explanation**\n",
    "* `!csvstack` is a command used to stack one file on another 'followed by all the .csv files that need to be stacked' > 'name of stacked file'\n",
    "* Here we stack the converted .csv files of all 4 months into one final .csv file"
   ]
  },
  {
   "cell_type": "code",
   "execution_count": 45,
   "id": "f835d005-2c31-4e86-a752-549d7ab4dac5",
   "metadata": {},
   "outputs": [],
   "source": [
    "#For SUB\n",
    "!csvstack Jan24/sub_1.csv Feb24/sub_2.csv Mar24/sub_3.csv Apr24/sub_4.csv > stacked_sub.csv"
   ]
  },
  {
   "cell_type": "code",
   "execution_count": 46,
   "id": "b3eeefb7-10d9-48da-b45e-e7546e5d949d",
   "metadata": {},
   "outputs": [],
   "source": [
    "#For TAG\n",
    "!csvstack Jan24/tag_1.csv Feb24/tag_2.csv Mar24/tag_3.csv Apr24/tag_4.csv > stacked_tag.csv"
   ]
  },
  {
   "cell_type": "code",
   "execution_count": 47,
   "id": "4a8a9c13-2b85-4503-888a-622c8aadfa6d",
   "metadata": {},
   "outputs": [],
   "source": [
    "#For DIM\n",
    "!csvstack Jan24/dim_1.csv Feb24/dim_2.csv Mar24/dim_3.csv Apr24/dim_4.csv > stacked_dim.csv"
   ]
  },
  {
   "cell_type": "code",
   "execution_count": 48,
   "id": "7b13aa78-5223-4031-9996-77bb1684b109",
   "metadata": {},
   "outputs": [],
   "source": [
    "#For REN\n",
    "!csvstack Jan24/ren_1.csv Feb24/ren_2.csv Mar24/ren_3.csv Apr24/ren_4.csv > stacked_ren.csv"
   ]
  },
  {
   "cell_type": "code",
   "execution_count": 49,
   "id": "be58d39c-fbb3-4dd1-90a8-c580f30558c8",
   "metadata": {},
   "outputs": [],
   "source": [
    "#For PRE\n",
    "!csvstack Jan24/pre_1.csv Feb24/pre_2.csv Mar24/pre_3.csv Apr24/pre_4.csv > stacked_pre.csv"
   ]
  },
  {
   "cell_type": "code",
   "execution_count": 50,
   "id": "e348bf48-656c-44ec-b02e-36e5e21af8bd",
   "metadata": {},
   "outputs": [],
   "source": [
    "#For NUM\n",
    "!csvstack Jan24/num_1.csv Feb24/num_2.csv Mar24/num_3.csv Apr24/num_4.csv > stacked_num.csv"
   ]
  },
  {
   "cell_type": "markdown",
   "id": "3bf74e58-4b10-4937-adac-c322be8a1b6d",
   "metadata": {},
   "source": [
    "#### For TXT\n",
    "\n",
    "**Code Explanation**\n",
    "* Here we use **!head** to load the header onto the stacked_txt.csv followed by **!tail -n +2** This command outputs all lines from the file, starting from the second line (i.e skips the header)\n",
    "* We use this approach for Txt because of the max file size limit constraint"
   ]
  },
  {
   "cell_type": "code",
   "execution_count": 51,
   "id": "ff617257-5f15-4fa9-91a3-0506af43a42a",
   "metadata": {},
   "outputs": [],
   "source": [
    "!head -n 1 Jan24/txt_1.csv > stacked_txt.csv"
   ]
  },
  {
   "cell_type": "code",
   "execution_count": 52,
   "id": "873c2e55-b874-46db-bba8-d35ef865295c",
   "metadata": {},
   "outputs": [],
   "source": [
    "!tail -n +2 Jan24/txt_1.csv >> stacked_txt.csv\n",
    "!tail -n +2 Feb24/txt_2.csv >> stacked_txt.csv\n",
    "!tail -n +2 Mar24/txt_3.csv >> stacked_txt.csv\n",
    "!tail -n +2 Apr24/txt_4.csv >> stacked_txt.csv"
   ]
  },
  {
   "cell_type": "code",
   "execution_count": 53,
   "id": "6051cd3e-687a-478c-bedf-48745431e9a0",
   "metadata": {},
   "outputs": [],
   "source": [
    "#For CAL\n",
    "!csvstack Jan24/cal_1.csv Feb24/cal_2.csv Mar24/cal_3.csv Apr24/cal_4.csv > stacked_cal.csv"
   ]
  },
  {
   "cell_type": "markdown",
   "id": "a6949e9c-3d0c-4e94-9e73-ba774574e2f3",
   "metadata": {},
   "source": [
    "#### Step 29: Loading data on SUB table in the database\n",
    "\n",
    "**Code Explanation**\n",
    "* The **COPY** command is used to load all the data onto the database that was initially stacked onto a single file\n",
    "* **Rows affected** shows that the data has been successfully loaded onto the table in our DB"
   ]
  },
  {
   "cell_type": "code",
   "execution_count": 54,
   "id": "864451fb-74e5-4ed5-99e8-262ce29b2af2",
   "metadata": {},
   "outputs": [
    {
     "name": "stdout",
     "output_type": "stream",
     "text": [
      " * postgresql://student@/DMA_G6\n",
      "33970 rows affected.\n"
     ]
    },
    {
     "data": {
      "text/plain": [
       "[]"
      ]
     },
     "execution_count": 54,
     "metadata": {},
     "output_type": "execute_result"
    }
   ],
   "source": [
    "%%sql\n",
    "COPY sub FROM '/home/ubuntu/notebooks/stacked_sub.csv'\n",
    "CSV\n",
    "HEADER;"
   ]
  },
  {
   "cell_type": "markdown",
   "id": "5ef40867-11f4-427a-83c7-9df3d7a4595e",
   "metadata": {},
   "source": [
    "#### Step 30: Loading data on TAG table in the database\n",
    "\n",
    "* We first clean the TAG data to remove duplicates as it might throw an error at the time of loading the data\n",
    "\n",
    "**Code Explanation**\n",
    "* `head -n 1`: This retrieves the first line (header) from the file mentioned\n",
    "* `> clean_tag.csv`: This is used to redirect the data into a new file\n",
    "* `tail -n +2`: This command retrieves all lines from the file, starting from the second line. \n",
    "* `sort -t, -k1,1 -k2,2`: Sorts the lines based on the first and second columns (-k1,1 -k2,2). "
   ]
  },
  {
   "cell_type": "code",
   "execution_count": 55,
   "id": "30aac855-265e-497a-842b-d080a984dd28",
   "metadata": {},
   "outputs": [],
   "source": [
    "!head -n 1 stacked_tag.csv > clean_tag.csv\n",
    "!tail -n +2 stacked_tag.csv | sort -t, -k1,1 -k2,2 | uniq >> clean_tag.csv"
   ]
  },
  {
   "cell_type": "code",
   "execution_count": 56,
   "id": "a09faad1-524c-45a2-9aa2-42112f9d496d",
   "metadata": {},
   "outputs": [
    {
     "name": "stdout",
     "output_type": "stream",
     "text": [
      " * postgresql://student@/DMA_G6\n",
      "1361021 rows affected.\n"
     ]
    },
    {
     "data": {
      "text/plain": [
       "[]"
      ]
     },
     "execution_count": 56,
     "metadata": {},
     "output_type": "execute_result"
    }
   ],
   "source": [
    "%%sql\n",
    "COPY tag FROM '/home/ubuntu/notebooks/clean_tag.csv'\n",
    "CSV\n",
    "HEADER;"
   ]
  },
  {
   "cell_type": "markdown",
   "id": "1e353f03-2332-4d9f-8c30-1d94a0724c32",
   "metadata": {},
   "source": [
    "#### Step 31: Loading data on DIM table in the database\n",
    "\n",
    "* We run the same command as before, just changing the variables of sorting. We do this based on the unique column according to the given metadata. In this case it is column 1 `-k1,1`"
   ]
  },
  {
   "cell_type": "code",
   "execution_count": 57,
   "id": "d2b6759c-6503-4bd8-9554-c69dcaa7991e",
   "metadata": {},
   "outputs": [],
   "source": [
    "!head -n 1 stacked_dim.csv > clean_dim.csv\n",
    "!tail -n +2 stacked_dim.csv | sort -t, -k1,1 | uniq >> clean_dim.csv"
   ]
  },
  {
   "cell_type": "code",
   "execution_count": 58,
   "id": "5aa2af76-168e-4fe2-9808-bd440b78f40c",
   "metadata": {},
   "outputs": [
    {
     "name": "stdout",
     "output_type": "stream",
     "text": [
      " * postgresql://student@/DMA_G6\n",
      "855682 rows affected.\n"
     ]
    },
    {
     "data": {
      "text/plain": [
       "[]"
      ]
     },
     "execution_count": 58,
     "metadata": {},
     "output_type": "execute_result"
    }
   ],
   "source": [
    "%%sql\n",
    "COPY dim FROM '/home/ubuntu/notebooks/clean_dim.csv'\n",
    "CSV\n",
    "HEADER;"
   ]
  },
  {
   "cell_type": "markdown",
   "id": "ba0adbf2-68f0-437f-8332-e439a3e2b256",
   "metadata": {},
   "source": [
    "#### Step 32: Loading data on REN table in the database\n",
    "\n",
    "* We run the same command as before, just changing the variables of sorting. We do this based on the unique columns according to the given metadata. In this case it is column 1 `-k1,1 -k2,2`"
   ]
  },
  {
   "cell_type": "code",
   "execution_count": 59,
   "id": "b4cfba6f-cf60-409f-ac98-72621a7d9d3f",
   "metadata": {},
   "outputs": [],
   "source": [
    "!head -n 1 stacked_ren.csv > clean_ren.csv\n",
    "!tail -n +2 stacked_ren.csv | sort -t, -k1,1 -k2,2 | uniq >> clean_ren.csv"
   ]
  },
  {
   "cell_type": "code",
   "execution_count": 60,
   "id": "02e8235b-80f2-434e-87e2-e98ed76bafae",
   "metadata": {},
   "outputs": [
    {
     "name": "stdout",
     "output_type": "stream",
     "text": [
      " * postgresql://student@/DMA_G6\n",
      "681682 rows affected.\n"
     ]
    },
    {
     "data": {
      "text/plain": [
       "[]"
      ]
     },
     "execution_count": 60,
     "metadata": {},
     "output_type": "execute_result"
    }
   ],
   "source": [
    "%%sql\n",
    "COPY ren FROM '/home/ubuntu/notebooks/clean_ren.csv'\n",
    "CSV\n",
    "HEADER;"
   ]
  },
  {
   "cell_type": "markdown",
   "id": "a5cf431b-8623-4fcb-98af-75e587052e7a",
   "metadata": {},
   "source": [
    "#### Step 33: Loading data on PRE table in the database\n",
    "\n",
    "* We run the same command as before, just changing the variables of sorting. We do this based on the unique column according to the given metadata. In this case it is column 1 `-k1,1 -k2,2 -k3,3`\n",
    "\n",
    "**Code Explanation**\n",
    "* Given the massive size of PRE data, in order to make sure that the Kernel performs best, without any issue we breakdown the files with a line limit of **500,000** and make multiple files of it and upload it to the DB one at a time. \n",
    "* `mkdir -p pre`: Creates a directory named pre\n",
    "* `split -l 500000`: Splits the file into parts, with each part containing 500,000 lines.\n",
    "* `--additional-suffix=.csv`: Adds the suffix .csv to each output file to ensure they are saved in CSV format.\n",
    "* `pre/pre_cleaned_part_`: Specifies the prefix for the output files, which will be saved in the pre directory with names like pre_cleaned_part_aa.csv, pre_cleaned_part_ab.csv, and so on."
   ]
  },
  {
   "cell_type": "code",
   "execution_count": 61,
   "id": "fea9852b-273f-4623-884a-31b07a830821",
   "metadata": {},
   "outputs": [],
   "source": [
    "!head -n 1 stacked_pre.csv > clean_pre.csv\n",
    "!tail -n +2 stacked_pre.csv | sort -t, -k1,1 -k2,2 -k3,3 | uniq >> clean_pre.csv"
   ]
  },
  {
   "cell_type": "code",
   "execution_count": 62,
   "id": "dbae65dd-460b-49f4-a998-13164501d51b",
   "metadata": {},
   "outputs": [],
   "source": [
    "!mkdir -p pre\n",
    "!split -l 500000 --additional-suffix=.csv clean_pre.csv pre/pre_cleaned_part_"
   ]
  },
  {
   "cell_type": "code",
   "execution_count": 63,
   "id": "13716cbf-2764-4b65-adfd-7951ddc42719",
   "metadata": {},
   "outputs": [
    {
     "name": "stdout",
     "output_type": "stream",
     "text": [
      " * postgresql://student@/DMA_G6\n",
      "499999 rows affected.\n",
      "500000 rows affected.\n",
      "500000 rows affected.\n",
      "500000 rows affected.\n",
      "500000 rows affected.\n",
      "500000 rows affected.\n",
      "500000 rows affected.\n",
      "500000 rows affected.\n"
     ]
    },
    {
     "data": {
      "text/plain": [
       "[]"
      ]
     },
     "execution_count": 63,
     "metadata": {},
     "output_type": "execute_result"
    }
   ],
   "source": [
    "%%sql\n",
    "\n",
    "-- For the PRE table\n",
    "COPY PRE FROM '/home/ubuntu/notebooks/pre/pre_cleaned_part_aa.csv'\n",
    "CSV\n",
    "HEADER;\n",
    "\n",
    "COPY PRE FROM '/home/ubuntu/notebooks/pre/pre_cleaned_part_ab.csv'\n",
    "CSV;\n",
    "\n",
    "COPY PRE FROM '/home/ubuntu/notebooks/pre/pre_cleaned_part_ac.csv'\n",
    "CSV;\n",
    "\n",
    "COPY PRE FROM '/home/ubuntu/notebooks/pre/pre_cleaned_part_ad.csv'\n",
    "CSV;\n",
    "\n",
    "COPY PRE FROM '/home/ubuntu/notebooks/pre/pre_cleaned_part_ae.csv'\n",
    "CSV;\n",
    "\n",
    "COPY PRE FROM '/home/ubuntu/notebooks/pre/pre_cleaned_part_af.csv'\n",
    "CSV;\n",
    "\n",
    "COPY PRE FROM '/home/ubuntu/notebooks/pre/pre_cleaned_part_ag.csv'\n",
    "CSV;\n",
    "\n",
    "COPY PRE FROM '/home/ubuntu/notebooks/pre/pre_cleaned_part_ah.csv'\n",
    "CSV;\n"
   ]
  },
  {
   "cell_type": "code",
   "execution_count": 64,
   "id": "d73b04ec-c483-46d6-82e4-48a6e532a1be",
   "metadata": {},
   "outputs": [
    {
     "name": "stdout",
     "output_type": "stream",
     "text": [
      " * postgresql://student@/DMA_G6\n",
      "500000 rows affected.\n"
     ]
    },
    {
     "data": {
      "text/plain": [
       "[]"
      ]
     },
     "execution_count": 64,
     "metadata": {},
     "output_type": "execute_result"
    }
   ],
   "source": [
    "%%sql\n",
    "COPY PRE FROM '/home/ubuntu/notebooks/pre/pre_cleaned_part_ai.csv'\n",
    "CSV;"
   ]
  },
  {
   "cell_type": "code",
   "execution_count": 65,
   "id": "ac8f8205-7bd5-45ba-9eaa-bde04e0e6809",
   "metadata": {},
   "outputs": [
    {
     "name": "stdout",
     "output_type": "stream",
     "text": [
      " * postgresql://student@/DMA_G6\n",
      "500000 rows affected.\n",
      "500000 rows affected.\n",
      "500000 rows affected.\n",
      "500000 rows affected.\n",
      "500000 rows affected.\n",
      "500000 rows affected.\n",
      "500000 rows affected.\n",
      "167495 rows affected.\n"
     ]
    },
    {
     "data": {
      "text/plain": [
       "[]"
      ]
     },
     "execution_count": 65,
     "metadata": {},
     "output_type": "execute_result"
    }
   ],
   "source": [
    "%%sql\n",
    "\n",
    "COPY PRE FROM '/home/ubuntu/notebooks/pre/pre_cleaned_part_aj.csv'\n",
    "CSV;\n",
    "\n",
    "COPY PRE FROM '/home/ubuntu/notebooks/pre/pre_cleaned_part_ak.csv'\n",
    "CSV;\n",
    "\n",
    "COPY PRE FROM '/home/ubuntu/notebooks/pre/pre_cleaned_part_al.csv'\n",
    "CSV;\n",
    "\n",
    "COPY PRE FROM '/home/ubuntu/notebooks/pre/pre_cleaned_part_am.csv'\n",
    "CSV;\n",
    "\n",
    "COPY PRE FROM '/home/ubuntu/notebooks/pre/pre_cleaned_part_an.csv'\n",
    "CSV;\n",
    "\n",
    "COPY PRE FROM '/home/ubuntu/notebooks/pre/pre_cleaned_part_ao.csv'\n",
    "CSV;\n",
    "\n",
    "COPY PRE FROM '/home/ubuntu/notebooks/pre/pre_cleaned_part_ap.csv'\n",
    "CSV;\n",
    "\n",
    "COPY PRE FROM '/home/ubuntu/notebooks/pre/pre_cleaned_part_aq.csv'\n",
    "CSV;"
   ]
  },
  {
   "cell_type": "markdown",
   "id": "d3e2c15e-fc76-4409-96fa-c07c102e1636",
   "metadata": {},
   "source": [
    "#### Step 34: Loading data on NUM table in the database\n",
    "\n",
    "* We run the same command as before, just changing the variables of sorting. We do this based on the unique column according to the given metadata. In this case it is column 1 `-k1,1 -k2,2 -k3,3 -k4,4 -k5,5 -k6,6 -k7,7 -k8,8`\n",
    "\n",
    "**Code Explanation**\n",
    "* Given the massive size of PRE data, in order to make sure that the Kernel performs best, without any issue we breakdown the files with a line limit of **500,000** and make multiple files of it and upload it to the DB one at a time. \n",
    "* `mkdir -p num`: Creates a directory named num\n",
    "* `split -l 500000`: Splits the file into parts, with each part containing 500,000 lines.\n",
    "* `--additional-suffix=.csv`: Adds the suffix .csv to each output file to ensure they are saved in CSV format.\n",
    "* `num/num_cleaned_part_`: Specifies the prefix for the output files, which will be saved in the pre directory with names like num_cleaned_part_aa.csv, num_cleaned_part_ab.csv, and so on."
   ]
  },
  {
   "cell_type": "code",
   "execution_count": 66,
   "id": "ca663525-da82-45fd-99f7-8505542b81ed",
   "metadata": {},
   "outputs": [],
   "source": [
    "!head -n 1 stacked_num.csv > clean_num.csv\n",
    "!tail -n +2 stacked_num.csv | sort -t, -k1,1 -k2,2 -k3,3 -k4,4 -k5,5 -k6,6 -k7,7 -k8,8 | uniq >> clean_num.csv"
   ]
  },
  {
   "cell_type": "code",
   "execution_count": 67,
   "id": "9b6c4ee3-f42a-4f93-bd2d-f610b63e3abc",
   "metadata": {},
   "outputs": [],
   "source": [
    "!mkdir -p num\n",
    "!split -l 500000 --additional-suffix=.csv clean_num.csv num/num_cleaned_part_"
   ]
  },
  {
   "cell_type": "code",
   "execution_count": 68,
   "id": "d96e4bb0-eece-43e8-84f9-e77d71d4767b",
   "metadata": {},
   "outputs": [
    {
     "name": "stdout",
     "output_type": "stream",
     "text": [
      " * postgresql://student@/DMA_G6\n",
      "499999 rows affected.\n"
     ]
    },
    {
     "data": {
      "text/plain": [
       "[]"
      ]
     },
     "execution_count": 68,
     "metadata": {},
     "output_type": "execute_result"
    }
   ],
   "source": [
    "%%sql\n",
    "COPY NUM FROM '/home/ubuntu/notebooks/num/num_cleaned_part_aa.csv'\n",
    "CSV\n",
    "HEADER;"
   ]
  },
  {
   "cell_type": "code",
   "execution_count": 5,
   "id": "1f010f29-3722-4e5d-8cac-cdb6cf1c9487",
   "metadata": {},
   "outputs": [
    {
     "name": "stdout",
     "output_type": "stream",
     "text": [
      " * postgresql://student@/DMA_G6\n",
      "500000 rows affected.\n"
     ]
    },
    {
     "data": {
      "text/plain": [
       "[]"
      ]
     },
     "execution_count": 5,
     "metadata": {},
     "output_type": "execute_result"
    }
   ],
   "source": [
    "%%sql\n",
    "COPY NUM FROM '/home/ubuntu/notebooks/num/num_cleaned_part_ab.csv'\n",
    "CSV;"
   ]
  },
  {
   "cell_type": "code",
   "execution_count": 6,
   "id": "1a2a55b9-22d1-4e8a-b6fe-956bb46ba891",
   "metadata": {},
   "outputs": [
    {
     "name": "stdout",
     "output_type": "stream",
     "text": [
      " * postgresql://student@/DMA_G6\n",
      "500000 rows affected.\n"
     ]
    },
    {
     "data": {
      "text/plain": [
       "[]"
      ]
     },
     "execution_count": 6,
     "metadata": {},
     "output_type": "execute_result"
    }
   ],
   "source": [
    "%%sql\n",
    "COPY NUM FROM '/home/ubuntu/notebooks/num/num_cleaned_part_ac.csv'\n",
    "CSV;"
   ]
  },
  {
   "cell_type": "code",
   "execution_count": 7,
   "id": "971ac2df-d688-406c-afbc-650e60437748",
   "metadata": {},
   "outputs": [
    {
     "name": "stdout",
     "output_type": "stream",
     "text": [
      " * postgresql://student@/DMA_G6\n",
      "500000 rows affected.\n"
     ]
    },
    {
     "data": {
      "text/plain": [
       "[]"
      ]
     },
     "execution_count": 7,
     "metadata": {},
     "output_type": "execute_result"
    }
   ],
   "source": [
    "%%sql\n",
    "COPY NUM FROM '/home/ubuntu/notebooks/num/num_cleaned_part_ad.csv'\n",
    "CSV;"
   ]
  },
  {
   "cell_type": "code",
   "execution_count": 8,
   "id": "38408452-01cf-432d-afde-4f76c8e9996e",
   "metadata": {},
   "outputs": [
    {
     "name": "stdout",
     "output_type": "stream",
     "text": [
      " * postgresql://student@/DMA_G6\n",
      "500000 rows affected.\n"
     ]
    },
    {
     "data": {
      "text/plain": [
       "[]"
      ]
     },
     "execution_count": 8,
     "metadata": {},
     "output_type": "execute_result"
    }
   ],
   "source": [
    "%%sql\n",
    "COPY NUM FROM '/home/ubuntu/notebooks/num/num_cleaned_part_ae.csv'\n",
    "CSV;"
   ]
  },
  {
   "cell_type": "code",
   "execution_count": 9,
   "id": "03e6626c-29bb-41e5-9247-a02ddbb7ecb4",
   "metadata": {},
   "outputs": [
    {
     "name": "stdout",
     "output_type": "stream",
     "text": [
      " * postgresql://student@/DMA_G6\n",
      "500000 rows affected.\n"
     ]
    },
    {
     "data": {
      "text/plain": [
       "[]"
      ]
     },
     "execution_count": 9,
     "metadata": {},
     "output_type": "execute_result"
    }
   ],
   "source": [
    "%%sql\n",
    "COPY NUM FROM '/home/ubuntu/notebooks/num/num_cleaned_part_af.csv'\n",
    "CSV;"
   ]
  },
  {
   "cell_type": "code",
   "execution_count": 10,
   "id": "9eafba24-9393-492f-b709-6be1bf99a870",
   "metadata": {},
   "outputs": [
    {
     "name": "stdout",
     "output_type": "stream",
     "text": [
      " * postgresql://student@/DMA_G6\n",
      "500000 rows affected.\n"
     ]
    },
    {
     "data": {
      "text/plain": [
       "[]"
      ]
     },
     "execution_count": 10,
     "metadata": {},
     "output_type": "execute_result"
    }
   ],
   "source": [
    "%%sql\n",
    "COPY NUM FROM '/home/ubuntu/notebooks/num/num_cleaned_part_ag.csv'\n",
    "CSV;"
   ]
  },
  {
   "cell_type": "code",
   "execution_count": 11,
   "id": "9c6e3bac-a866-4698-afea-e832f15d0ec5",
   "metadata": {},
   "outputs": [
    {
     "name": "stdout",
     "output_type": "stream",
     "text": [
      " * postgresql://student@/DMA_G6\n",
      "500000 rows affected.\n"
     ]
    },
    {
     "data": {
      "text/plain": [
       "[]"
      ]
     },
     "execution_count": 11,
     "metadata": {},
     "output_type": "execute_result"
    }
   ],
   "source": [
    "%%sql\n",
    "COPY NUM FROM '/home/ubuntu/notebooks/num/num_cleaned_part_ah.csv'\n",
    "CSV;"
   ]
  },
  {
   "cell_type": "code",
   "execution_count": 12,
   "id": "210f85c2-76cd-4612-aced-cdab414bc984",
   "metadata": {},
   "outputs": [
    {
     "name": "stdout",
     "output_type": "stream",
     "text": [
      " * postgresql://student@/DMA_G6\n",
      "500000 rows affected.\n"
     ]
    },
    {
     "data": {
      "text/plain": [
       "[]"
      ]
     },
     "execution_count": 12,
     "metadata": {},
     "output_type": "execute_result"
    }
   ],
   "source": [
    "%%sql\n",
    "COPY NUM FROM '/home/ubuntu/notebooks/num/num_cleaned_part_ai.csv'\n",
    "CSV;"
   ]
  },
  {
   "cell_type": "code",
   "execution_count": 13,
   "id": "13d3bef6-6c6b-4f7b-9834-282c3fcd910e",
   "metadata": {},
   "outputs": [
    {
     "name": "stdout",
     "output_type": "stream",
     "text": [
      " * postgresql://student@/DMA_G6\n",
      "500000 rows affected.\n"
     ]
    },
    {
     "data": {
      "text/plain": [
       "[]"
      ]
     },
     "execution_count": 13,
     "metadata": {},
     "output_type": "execute_result"
    }
   ],
   "source": [
    "%%sql\n",
    "COPY NUM FROM '/home/ubuntu/notebooks/num/num_cleaned_part_aj.csv'\n",
    "CSV;"
   ]
  },
  {
   "cell_type": "code",
   "execution_count": 14,
   "id": "96d60fa1-adf5-4686-a662-729f55327975",
   "metadata": {},
   "outputs": [
    {
     "name": "stdout",
     "output_type": "stream",
     "text": [
      " * postgresql://student@/DMA_G6\n",
      "500000 rows affected.\n"
     ]
    },
    {
     "data": {
      "text/plain": [
       "[]"
      ]
     },
     "execution_count": 14,
     "metadata": {},
     "output_type": "execute_result"
    }
   ],
   "source": [
    "%%sql\n",
    "COPY NUM FROM '/home/ubuntu/notebooks/num/num_cleaned_part_ak.csv'\n",
    "CSV;"
   ]
  },
  {
   "cell_type": "code",
   "execution_count": 15,
   "id": "10754eb2-2b73-437f-9711-0eb592bb898c",
   "metadata": {},
   "outputs": [
    {
     "name": "stdout",
     "output_type": "stream",
     "text": [
      " * postgresql://student@/DMA_G6\n",
      "500000 rows affected.\n"
     ]
    },
    {
     "data": {
      "text/plain": [
       "[]"
      ]
     },
     "execution_count": 15,
     "metadata": {},
     "output_type": "execute_result"
    }
   ],
   "source": [
    "%%sql\n",
    "COPY NUM FROM '/home/ubuntu/notebooks/num/num_cleaned_part_al.csv'\n",
    "CSV;"
   ]
  },
  {
   "cell_type": "code",
   "execution_count": 16,
   "id": "46c48aef-3ada-4d0f-8299-081093197ae1",
   "metadata": {},
   "outputs": [
    {
     "name": "stdout",
     "output_type": "stream",
     "text": [
      " * postgresql://student@/DMA_G6\n",
      "500000 rows affected.\n"
     ]
    },
    {
     "data": {
      "text/plain": [
       "[]"
      ]
     },
     "execution_count": 16,
     "metadata": {},
     "output_type": "execute_result"
    }
   ],
   "source": [
    "%%sql\n",
    "COPY NUM FROM '/home/ubuntu/notebooks/num/num_cleaned_part_am.csv'\n",
    "CSV;"
   ]
  },
  {
   "cell_type": "code",
   "execution_count": 17,
   "id": "b1209155-3016-4e98-8d43-e63a7ce41d79",
   "metadata": {},
   "outputs": [
    {
     "name": "stdout",
     "output_type": "stream",
     "text": [
      " * postgresql://student@/DMA_G6\n",
      "500000 rows affected.\n"
     ]
    },
    {
     "data": {
      "text/plain": [
       "[]"
      ]
     },
     "execution_count": 17,
     "metadata": {},
     "output_type": "execute_result"
    }
   ],
   "source": [
    "%%sql\n",
    "COPY NUM FROM '/home/ubuntu/notebooks/num/num_cleaned_part_an.csv'\n",
    "CSV;"
   ]
  },
  {
   "cell_type": "code",
   "execution_count": 18,
   "id": "8e3756f9-e1dd-4003-a53d-88a8cc3a015c",
   "metadata": {},
   "outputs": [
    {
     "name": "stdout",
     "output_type": "stream",
     "text": [
      " * postgresql://student@/DMA_G6\n",
      "500000 rows affected.\n"
     ]
    },
    {
     "data": {
      "text/plain": [
       "[]"
      ]
     },
     "execution_count": 18,
     "metadata": {},
     "output_type": "execute_result"
    }
   ],
   "source": [
    "%%sql\n",
    "COPY NUM FROM '/home/ubuntu/notebooks/num/num_cleaned_part_ao.csv'\n",
    "CSV;"
   ]
  },
  {
   "cell_type": "code",
   "execution_count": 19,
   "id": "0b6004ba-83e3-4950-aa63-e63cf9a9cd93",
   "metadata": {},
   "outputs": [
    {
     "name": "stdout",
     "output_type": "stream",
     "text": [
      " * postgresql://student@/DMA_G6\n",
      "500000 rows affected.\n"
     ]
    },
    {
     "data": {
      "text/plain": [
       "[]"
      ]
     },
     "execution_count": 19,
     "metadata": {},
     "output_type": "execute_result"
    }
   ],
   "source": [
    "%%sql\n",
    "COPY NUM FROM '/home/ubuntu/notebooks/num/num_cleaned_part_ap.csv'\n",
    "CSV;"
   ]
  },
  {
   "cell_type": "code",
   "execution_count": 20,
   "id": "651aaa6f-1764-418b-9d47-8ef8911467c6",
   "metadata": {},
   "outputs": [
    {
     "name": "stdout",
     "output_type": "stream",
     "text": [
      " * postgresql://student@/DMA_G6\n",
      "500000 rows affected.\n"
     ]
    },
    {
     "data": {
      "text/plain": [
       "[]"
      ]
     },
     "execution_count": 20,
     "metadata": {},
     "output_type": "execute_result"
    }
   ],
   "source": [
    "%%sql\n",
    "COPY NUM FROM '/home/ubuntu/notebooks/num/num_cleaned_part_aq.csv'\n",
    "CSV;"
   ]
  },
  {
   "cell_type": "code",
   "execution_count": 21,
   "id": "cf43c057-3290-4211-b381-9ad2950eae1b",
   "metadata": {},
   "outputs": [
    {
     "name": "stdout",
     "output_type": "stream",
     "text": [
      " * postgresql://student@/DMA_G6\n",
      "500000 rows affected.\n"
     ]
    },
    {
     "data": {
      "text/plain": [
       "[]"
      ]
     },
     "execution_count": 21,
     "metadata": {},
     "output_type": "execute_result"
    }
   ],
   "source": [
    "%%sql\n",
    "COPY NUM FROM '/home/ubuntu/notebooks/num/num_cleaned_part_ar.csv'\n",
    "CSV;"
   ]
  },
  {
   "cell_type": "code",
   "execution_count": 22,
   "id": "e84e700a-8e2d-45ac-9219-b047d85f344e",
   "metadata": {},
   "outputs": [
    {
     "name": "stdout",
     "output_type": "stream",
     "text": [
      " * postgresql://student@/DMA_G6\n",
      "500000 rows affected.\n"
     ]
    },
    {
     "data": {
      "text/plain": [
       "[]"
      ]
     },
     "execution_count": 22,
     "metadata": {},
     "output_type": "execute_result"
    }
   ],
   "source": [
    "%%sql\n",
    "COPY NUM FROM '/home/ubuntu/notebooks/num/num_cleaned_part_as.csv'\n",
    "CSV;"
   ]
  },
  {
   "cell_type": "code",
   "execution_count": 23,
   "id": "e281ba68-5283-4bf3-bd51-ea4171921808",
   "metadata": {},
   "outputs": [
    {
     "name": "stdout",
     "output_type": "stream",
     "text": [
      " * postgresql://student@/DMA_G6\n",
      "500000 rows affected.\n"
     ]
    },
    {
     "data": {
      "text/plain": [
       "[]"
      ]
     },
     "execution_count": 23,
     "metadata": {},
     "output_type": "execute_result"
    }
   ],
   "source": [
    "%%sql\n",
    "COPY NUM FROM '/home/ubuntu/notebooks/num/num_cleaned_part_at.csv'\n",
    "CSV;"
   ]
  },
  {
   "cell_type": "code",
   "execution_count": 24,
   "id": "30163fd9-4c25-44c4-9254-af226d1eb83c",
   "metadata": {},
   "outputs": [
    {
     "name": "stdout",
     "output_type": "stream",
     "text": [
      " * postgresql://student@/DMA_G6\n",
      "500000 rows affected.\n"
     ]
    },
    {
     "data": {
      "text/plain": [
       "[]"
      ]
     },
     "execution_count": 24,
     "metadata": {},
     "output_type": "execute_result"
    }
   ],
   "source": [
    "%%sql\n",
    "COPY NUM FROM '/home/ubuntu/notebooks/num/num_cleaned_part_au.csv'\n",
    "CSV;"
   ]
  },
  {
   "cell_type": "code",
   "execution_count": 25,
   "id": "c565fb95-a1d1-4d1f-a85b-2461440cfbc1",
   "metadata": {},
   "outputs": [
    {
     "name": "stdout",
     "output_type": "stream",
     "text": [
      " * postgresql://student@/DMA_G6\n",
      "500000 rows affected.\n"
     ]
    },
    {
     "data": {
      "text/plain": [
       "[]"
      ]
     },
     "execution_count": 25,
     "metadata": {},
     "output_type": "execute_result"
    }
   ],
   "source": [
    "%%sql\n",
    "COPY NUM FROM '/home/ubuntu/notebooks/num/num_cleaned_part_av.csv'\n",
    "CSV;"
   ]
  },
  {
   "cell_type": "code",
   "execution_count": 26,
   "id": "47c33276-a675-4267-a084-9d50b94c1969",
   "metadata": {},
   "outputs": [
    {
     "name": "stdout",
     "output_type": "stream",
     "text": [
      " * postgresql://student@/DMA_G6\n",
      "500000 rows affected.\n"
     ]
    },
    {
     "data": {
      "text/plain": [
       "[]"
      ]
     },
     "execution_count": 26,
     "metadata": {},
     "output_type": "execute_result"
    }
   ],
   "source": [
    "%%sql\n",
    "COPY NUM FROM '/home/ubuntu/notebooks/num/num_cleaned_part_aw.csv'\n",
    "CSV;"
   ]
  },
  {
   "cell_type": "code",
   "execution_count": 27,
   "id": "b4a54024-ec38-46b4-8973-5670bd280ddd",
   "metadata": {},
   "outputs": [
    {
     "name": "stdout",
     "output_type": "stream",
     "text": [
      " * postgresql://student@/DMA_G6\n",
      "114763 rows affected.\n"
     ]
    },
    {
     "data": {
      "text/plain": [
       "[]"
      ]
     },
     "execution_count": 27,
     "metadata": {},
     "output_type": "execute_result"
    }
   ],
   "source": [
    "%%sql\n",
    "COPY NUM FROM '/home/ubuntu/notebooks/num/num_cleaned_part_ax.csv'\n",
    "CSV;"
   ]
  },
  {
   "cell_type": "markdown",
   "id": "f0dc790e-4530-49cb-bf9a-be66c2ee4542",
   "metadata": {},
   "source": [
    "#### Step 35: Loading data on TXT table in the database\n",
    "\n",
    "* We run the same command as before, just changing the variables of sorting. We do this based on the unique column according to the given metadata. In this case it is column 1 `-k1,1 -k2,2 -k3,3 -k4,4 -k5,5 -k6,6 -k11,11`"
   ]
  },
  {
   "cell_type": "code",
   "execution_count": 28,
   "id": "c42e3eda-f5f7-41e3-8f12-5a855765f9d0",
   "metadata": {},
   "outputs": [],
   "source": [
    "!head -n 1 stacked_txt.csv > clean_txt.csv\n",
    "!tail -n +2 stacked_txt.csv | sort -t, -k1,1 -k2,2 -k3,3 -k4,4 -k5,5 -k6,6 -k11,11  | uniq >> clean_txt.csv"
   ]
  },
  {
   "cell_type": "code",
   "execution_count": 5,
   "id": "3bc65de4-1d81-490a-934e-f634ae7e302d",
   "metadata": {},
   "outputs": [
    {
     "name": "stdout",
     "output_type": "stream",
     "text": [
      " * postgresql://student@/DMA_G6\n",
      "(psycopg2.errors.UniqueViolation) duplicate key value violates unique constraint \"txt_pkey\"\n",
      "DETAIL:  Key (adsh, tag, version, ddate, qtrs, dimh, iprx)=(0000002178-24-000004, AmendmentFlag, dei/2023, 2024-02-29, 0, 0x00000000                                                      , 0) already exists.\n",
      "CONTEXT:  COPY txt, line 2\n",
      "\n",
      "[SQL: COPY txt FROM '/home/ubuntu/notebooks/clean_txt.csv'\n",
      "CSV\n",
      "HEADER;]\n",
      "(Background on this error at: https://sqlalche.me/e/14/gkpj)\n"
     ]
    }
   ],
   "source": [
    "%%sql\n",
    "COPY txt FROM '/home/ubuntu/notebooks/clean_txt.csv'\n",
    "CSV\n",
    "HEADER;"
   ]
  },
  {
   "cell_type": "markdown",
   "id": "b3520a67-a8ab-4f19-84d9-6a2571c7c219",
   "metadata": {},
   "source": [
    "**When you try to load the data onto the table that already consists of the same data, it throws the above error. We tried to reload the data just to ensure that we didn't miss out on any, hence this error. Rest assured the data has been loaded fully**"
   ]
  },
  {
   "cell_type": "markdown",
   "id": "b659f04d-4345-4e05-87c4-556eb82bdd4d",
   "metadata": {},
   "source": [
    "#### Step 36: Loading data on CAL table in the database\n",
    "\n",
    "* We run the same command as before, just changing the variables of sorting. We do this based on the unique column according to the given metadata. In this case it is column 1 `-k1,1 -k2,2 -k3,3`"
   ]
  },
  {
   "cell_type": "code",
   "execution_count": 6,
   "id": "d1cf4b93-5ef3-4af4-ac77-3b8bdb687a32",
   "metadata": {},
   "outputs": [],
   "source": [
    "!head -n 1 stacked_cal.csv > clean_cal.csv\n",
    "!tail -n +2 stacked_cal.csv | sort -t, -k1,1 -k2,2 -k3,3 | uniq >> clean_cal.csv"
   ]
  },
  {
   "cell_type": "code",
   "execution_count": 7,
   "id": "4416f312-7d22-4b3d-92b0-c06fa829ffd1",
   "metadata": {},
   "outputs": [
    {
     "name": "stdout",
     "output_type": "stream",
     "text": [
      " * postgresql://student@/DMA_G6\n",
      "1122324 rows affected.\n"
     ]
    },
    {
     "data": {
      "text/plain": [
       "[]"
      ]
     },
     "execution_count": 7,
     "metadata": {},
     "output_type": "execute_result"
    }
   ],
   "source": [
    "%%sql\n",
    "COPY cal FROM '/home/ubuntu/notebooks/clean_cal.csv'\n",
    "CSV\n",
    "HEADER;"
   ]
  },
  {
   "cell_type": "markdown",
   "id": "e80b7705-5a1b-44aa-a7e5-a2c55fbe7e57",
   "metadata": {},
   "source": [
    "#### Step 37: Count of all clean files followed by the count of data in the table\n",
    "* We run the word count of for all the final .csv files before loading and then compare it to the word count of the data on the DB. \n",
    "* We observe that both of them match, making it clear that our data loading has been successful without any data missed out during the process.\n",
    "\n",
    "**Code Explanation**\n",
    "* `wc -l`: The wc (word count) command with the -l option counts only the lines in the specified file.\n",
    "* `SELECT COUNT(*) FROM`: The COUNT(*) function returns the total number of rows in the specified table, including rows with NULL values."
   ]
  },
  {
   "cell_type": "code",
   "execution_count": 5,
   "id": "ea148ad1-024a-4a1e-b73a-7e3ee8975e5a",
   "metadata": {},
   "outputs": [
    {
     "name": "stdout",
     "output_type": "stream",
     "text": [
      "33971 stacked_sub.csv\n",
      "855683 clean_dim.csv\n",
      "1923902 clean_txt.csv\n",
      "8167495 clean_pre.csv\n",
      "1122325 clean_cal.csv\n",
      "1361022 clean_tag.csv\n",
      "11614763 clean_num.csv\n"
     ]
    }
   ],
   "source": [
    "!wc -l stacked_sub.csv\n",
    "!wc -l clean_dim.csv\n",
    "!wc -l clean_txt.csv\n",
    "!wc -l clean_pre.csv\n",
    "!wc -l clean_cal.csv\n",
    "!wc -l clean_tag.csv\n",
    "!wc -l clean_num.csv"
   ]
  },
  {
   "cell_type": "code",
   "execution_count": 9,
   "id": "c2e45ace-aea6-403e-847a-380b7e991eec",
   "metadata": {},
   "outputs": [
    {
     "name": "stdout",
     "output_type": "stream",
     "text": [
      " * postgresql://student@/DMA_G6\n",
      "1 rows affected.\n"
     ]
    },
    {
     "data": {
      "text/html": [
       "<table>\n",
       "    <thead>\n",
       "        <tr>\n",
       "            <th>count</th>\n",
       "        </tr>\n",
       "    </thead>\n",
       "    <tbody>\n",
       "        <tr>\n",
       "            <td>33970</td>\n",
       "        </tr>\n",
       "    </tbody>\n",
       "</table>"
      ],
      "text/plain": [
       "[(33970,)]"
      ]
     },
     "execution_count": 9,
     "metadata": {},
     "output_type": "execute_result"
    }
   ],
   "source": [
    "%%sql\n",
    "select count(*) from sub;"
   ]
  },
  {
   "cell_type": "code",
   "execution_count": 10,
   "id": "8979f30d-a6b5-40e2-b635-7b0a8d0688c1",
   "metadata": {},
   "outputs": [
    {
     "name": "stdout",
     "output_type": "stream",
     "text": [
      " * postgresql://student@/DMA_G6\n",
      "1 rows affected.\n"
     ]
    },
    {
     "data": {
      "text/html": [
       "<table>\n",
       "    <thead>\n",
       "        <tr>\n",
       "            <th>count</th>\n",
       "        </tr>\n",
       "    </thead>\n",
       "    <tbody>\n",
       "        <tr>\n",
       "            <td>855682</td>\n",
       "        </tr>\n",
       "    </tbody>\n",
       "</table>"
      ],
      "text/plain": [
       "[(855682,)]"
      ]
     },
     "execution_count": 10,
     "metadata": {},
     "output_type": "execute_result"
    }
   ],
   "source": [
    "%%sql\n",
    "select count(*) from dim;\n"
   ]
  },
  {
   "cell_type": "code",
   "execution_count": 11,
   "id": "5cb2ed79-383d-474b-8f28-5c32fba7621c",
   "metadata": {},
   "outputs": [
    {
     "name": "stdout",
     "output_type": "stream",
     "text": [
      " * postgresql://student@/DMA_G6\n",
      "1 rows affected.\n"
     ]
    },
    {
     "data": {
      "text/html": [
       "<table>\n",
       "    <thead>\n",
       "        <tr>\n",
       "            <th>count</th>\n",
       "        </tr>\n",
       "    </thead>\n",
       "    <tbody>\n",
       "        <tr>\n",
       "            <td>1923901</td>\n",
       "        </tr>\n",
       "    </tbody>\n",
       "</table>"
      ],
      "text/plain": [
       "[(1923901,)]"
      ]
     },
     "execution_count": 11,
     "metadata": {},
     "output_type": "execute_result"
    }
   ],
   "source": [
    "%%sql\n",
    "select count(*) from txt;\n"
   ]
  },
  {
   "cell_type": "code",
   "execution_count": 12,
   "id": "e5d1f2a6-a91c-44fa-85bc-7f55aad88630",
   "metadata": {},
   "outputs": [
    {
     "name": "stdout",
     "output_type": "stream",
     "text": [
      " * postgresql://student@/DMA_G6\n",
      "1 rows affected.\n"
     ]
    },
    {
     "data": {
      "text/html": [
       "<table>\n",
       "    <thead>\n",
       "        <tr>\n",
       "            <th>count</th>\n",
       "        </tr>\n",
       "    </thead>\n",
       "    <tbody>\n",
       "        <tr>\n",
       "            <td>8167494</td>\n",
       "        </tr>\n",
       "    </tbody>\n",
       "</table>"
      ],
      "text/plain": [
       "[(8167494,)]"
      ]
     },
     "execution_count": 12,
     "metadata": {},
     "output_type": "execute_result"
    }
   ],
   "source": [
    "%%sql\n",
    "select count(*) from pre;\n"
   ]
  },
  {
   "cell_type": "code",
   "execution_count": 13,
   "id": "17d14dc9-aa74-4593-807c-3c6881c95e14",
   "metadata": {},
   "outputs": [
    {
     "name": "stdout",
     "output_type": "stream",
     "text": [
      " * postgresql://student@/DMA_G6\n",
      "1 rows affected.\n"
     ]
    },
    {
     "data": {
      "text/html": [
       "<table>\n",
       "    <thead>\n",
       "        <tr>\n",
       "            <th>count</th>\n",
       "        </tr>\n",
       "    </thead>\n",
       "    <tbody>\n",
       "        <tr>\n",
       "            <td>1122324</td>\n",
       "        </tr>\n",
       "    </tbody>\n",
       "</table>"
      ],
      "text/plain": [
       "[(1122324,)]"
      ]
     },
     "execution_count": 13,
     "metadata": {},
     "output_type": "execute_result"
    }
   ],
   "source": [
    "%%sql\n",
    "select count(*) from cal;\n"
   ]
  },
  {
   "cell_type": "code",
   "execution_count": 14,
   "id": "3898876d-d358-4d75-bc91-b02d2d85d145",
   "metadata": {},
   "outputs": [
    {
     "name": "stdout",
     "output_type": "stream",
     "text": [
      " * postgresql://student@/DMA_G6\n",
      "1 rows affected.\n"
     ]
    },
    {
     "data": {
      "text/html": [
       "<table>\n",
       "    <thead>\n",
       "        <tr>\n",
       "            <th>count</th>\n",
       "        </tr>\n",
       "    </thead>\n",
       "    <tbody>\n",
       "        <tr>\n",
       "            <td>1361021</td>\n",
       "        </tr>\n",
       "    </tbody>\n",
       "</table>"
      ],
      "text/plain": [
       "[(1361021,)]"
      ]
     },
     "execution_count": 14,
     "metadata": {},
     "output_type": "execute_result"
    }
   ],
   "source": [
    "%%sql\n",
    "select count(*) from tag;\n"
   ]
  },
  {
   "cell_type": "code",
   "execution_count": 15,
   "id": "2fa28018-de59-46c4-8b24-81fa2fe22f33",
   "metadata": {},
   "outputs": [
    {
     "name": "stdout",
     "output_type": "stream",
     "text": [
      " * postgresql://student@/DMA_G6\n",
      "1 rows affected.\n"
     ]
    },
    {
     "data": {
      "text/html": [
       "<table>\n",
       "    <thead>\n",
       "        <tr>\n",
       "            <th>count</th>\n",
       "        </tr>\n",
       "    </thead>\n",
       "    <tbody>\n",
       "        <tr>\n",
       "            <td>11614762</td>\n",
       "        </tr>\n",
       "    </tbody>\n",
       "</table>"
      ],
      "text/plain": [
       "[(11614762,)]"
      ]
     },
     "execution_count": 15,
     "metadata": {},
     "output_type": "execute_result"
    }
   ],
   "source": [
    "%%sql\n",
    "select count(*) from num;"
   ]
  },
  {
   "cell_type": "markdown",
   "id": "2effaf80-9701-4c55-9c45-d0655016149d",
   "metadata": {},
   "source": [
    "## Part III: DATA ANALYSIS\n",
    "* Objective: Run SQL queries to answer important questions related to the data."
   ]
  },
  {
   "cell_type": "markdown",
   "id": "b274a35b-a72c-4953-ba80-ec980d7cb421",
   "metadata": {
    "jp-MarkdownHeadingCollapsed": true,
    "tags": []
   },
   "source": [
    "**Question 1: Retrieve the submission_id, company_name, and submission_date, and full\n",
    "mailing address (street, city, zip and country) for all submissions made by\n",
    "companies in the “Healthcare” sector in March 2024.**\n",
    "\n",
    "**Based on the question, we need to first figure out all the Healthcare sectors in the SEC Website**\n",
    "https://www.sec.gov/search-filings/standard-industrial-classification-sic-code-list\n",
    "\n",
    "After thorough analysis, we understand that these are the list of SIC Codes that come under the healthcare sector. The Standard Industrial Classification (SIC) codes for the healthcare sector primarily include codes ranging from **8000 to 8099**\n",
    "\n",
    "**8000 to 8099** : Are the direct healthcare relationships. \n",
    "\n",
    "**2833, 2834, 2835, 2836, 3841, 3842, 3845, 5047, 6324**: Are indirect healthcare sectors in pharmaceuticals, medical instruments, and insurance plans. \n",
    "\n",
    "* SIC 2833 - 2836: This range includes pharmaceutical products.\n",
    "* 2833: Medicinal Chemicals and Botanical Products\n",
    "* 2834: Pharmaceutical Preparations\n",
    "* 2835: In Vitro and In Vivo Diagnostic Substances\n",
    "* 2836: Biological Products, Except Diagnostic Substances\n",
    "* SIC 3841, 3842, 3845: These cover medical instruments and equipment:\n",
    "* 3841: Surgical and Medical Instruments and Apparatus\n",
    "* 3842: Orthopedic, Prosthetic, and Surgical Appliances and Supplies\n",
    "* 3845: Electromedical and Electrotherapeutic Apparatus\n",
    "* SIC 5047: Medical, Dental, and Hospital Equipment and Supplies, which includes the wholesale distribution of healthcare equipment.\n",
    "* SIC 6324: Hospital and Medical Service Plans, relating to health insurance services.\n",
    "\n",
    "\n",
    "* SIC 8011: Offices and Clinics of Doctors of Medicine\n",
    "* SIC 8021: Offices and Clinics of Dentists\n",
    "* SIC 8031: Offices and Clinics of Doctors of Osteopathy\n",
    "* SIC 8041: Offices and Clinics of Chiropractors\n",
    "* SIC 8042: Offices and Clinics of Optometrists\n",
    "* SIC 8043: Offices and Clinics of Podiatrists\n",
    "* SIC 8049: Offices and Clinics of Health Practitioners, Not Elsewhere Classified\n",
    "* SIC 8051: Skilled Nursing Care Facilities\n",
    "* SIC 8052: Intermediate Care Facilities\n",
    "* SIC 8059: Nursing and Personal Care Facilities, Not Elsewhere Classified\n",
    "* SIC 8062: General Medical and Surgical Hospitals\n",
    "* SIC 8063: Psychiatric Hospitals\n",
    "* SIC 8069: Specialty Hospitals, Except Psychiatric\n",
    "* SIC 8071: Medical Laboratories\n",
    "* SIC 8082: Home Health Care Services\n",
    "* SIC 8093: Specialty Outpatient Facilities, Not Elsewhere Classified\n",
    "* SIC 8099: Health and Allied Services, Not Elsewhere Classified\n",
    "\n",
    "\n"
   ]
  },
  {
   "cell_type": "markdown",
   "id": "d88b95e4-b281-4ee5-b8e4-a06f133c9ca3",
   "metadata": {},
   "source": [
    "**Code Explanation**\n",
    "\n",
    "* `adsh AS submission_id`: Fetches the unique submission identifier, labeled as submission_id.\n",
    "* `name AS company_name`: Fetches the name of the company, labeled as company_name.\n",
    "* `filed AS submission_date`: Fetches the date the submission was filed, labeled as submission_date.\n",
    "* `mas1 AS mailing_street, cityma AS mailing_city, zipma AS mailing_zip, countryma AS mailing_country`: Fetches the company’s mailing address details, labeled for easy identification."
   ]
  },
  {
   "cell_type": "code",
   "execution_count": 16,
   "id": "38c09a0d-eca1-47b6-be5b-50788d41832b",
   "metadata": {
    "tags": []
   },
   "outputs": [
    {
     "name": "stdout",
     "output_type": "stream",
     "text": [
      " * postgresql://student@/DMA_G6\n",
      "20 rows affected.\n"
     ]
    },
    {
     "data": {
      "text/html": [
       "<table>\n",
       "    <thead>\n",
       "        <tr>\n",
       "            <th>submission_id</th>\n",
       "            <th>company_name</th>\n",
       "            <th>submission_date</th>\n",
       "            <th>mailing_street</th>\n",
       "            <th>mailing_city</th>\n",
       "            <th>mailing_zip</th>\n",
       "            <th>mailing_country</th>\n",
       "        </tr>\n",
       "    </thead>\n",
       "    <tbody>\n",
       "        <tr>\n",
       "            <td>0000742112-24-000007</td>\n",
       "            <td>INVACARE HOLDINGS CORP</td>\n",
       "            <td>2024-03-01</td>\n",
       "            <td>ONE INVACARE WAY</td>\n",
       "            <td>ELYRIA</td>\n",
       "            <td>44035</td>\n",
       "            <td>US</td>\n",
       "        </tr>\n",
       "        <tr>\n",
       "            <td>0000885978-24-000007</td>\n",
       "            <td>U S PHYSICAL THERAPY INC /NV</td>\n",
       "            <td>2024-03-01</td>\n",
       "            <td>1300 WEST SAM HOUSTON PARKWAY</td>\n",
       "            <td>HOUSTON</td>\n",
       "            <td>77043</td>\n",
       "            <td>US</td>\n",
       "        </tr>\n",
       "        <tr>\n",
       "            <td>0000950170-24-023509</td>\n",
       "            <td>BIODESIX INC</td>\n",
       "            <td>2024-03-01</td>\n",
       "            <td>2970 WILDERNESS PLACE</td>\n",
       "            <td>BOULDER</td>\n",
       "            <td>80301</td>\n",
       "            <td>US</td>\n",
       "        </tr>\n",
       "        <tr>\n",
       "            <td>0000950170-24-023513</td>\n",
       "            <td>BIODESIX INC</td>\n",
       "            <td>2024-03-01</td>\n",
       "            <td>2970 WILDERNESS PLACE</td>\n",
       "            <td>BOULDER</td>\n",
       "            <td>80301</td>\n",
       "            <td>US</td>\n",
       "        </tr>\n",
       "        <tr>\n",
       "            <td>0000950170-24-023543</td>\n",
       "            <td>MYOMO, INC.</td>\n",
       "            <td>2024-03-01</td>\n",
       "            <td>137 PORTLAND STREET</td>\n",
       "            <td>BOSTON</td>\n",
       "            <td>02114</td>\n",
       "            <td>US</td>\n",
       "        </tr>\n",
       "        <tr>\n",
       "            <td>0000950170-24-023820</td>\n",
       "            <td>INOGEN INC</td>\n",
       "            <td>2024-03-01</td>\n",
       "            <td>859 WARD DRIVE</td>\n",
       "            <td>GOLETA</td>\n",
       "            <td>93111</td>\n",
       "            <td>US</td>\n",
       "        </tr>\n",
       "        <tr>\n",
       "            <td>0000950170-24-023838</td>\n",
       "            <td>VIKING THERAPEUTICS, INC.</td>\n",
       "            <td>2024-03-01</td>\n",
       "            <td>9920 PACIFIC HEIGHTS BLVD, SUITE 350</td>\n",
       "            <td>SAN DIEGO</td>\n",
       "            <td>92121</td>\n",
       "            <td>US</td>\n",
       "        </tr>\n",
       "        <tr>\n",
       "            <td>0000950170-24-023918</td>\n",
       "            <td>LYRA THERAPEUTICS, INC.</td>\n",
       "            <td>2024-03-01</td>\n",
       "            <td>480 ARSENAL WAY</td>\n",
       "            <td>WATERTOWN</td>\n",
       "            <td>02472</td>\n",
       "            <td>US</td>\n",
       "        </tr>\n",
       "        <tr>\n",
       "            <td>0000950170-24-024008</td>\n",
       "            <td>89BIO, INC.</td>\n",
       "            <td>2024-03-01</td>\n",
       "            <td>142 SANSOME STREET</td>\n",
       "            <td>SAN FRANCISCO</td>\n",
       "            <td>94104</td>\n",
       "            <td>US</td>\n",
       "        </tr>\n",
       "        <tr>\n",
       "            <td>0001104659-24-029624</td>\n",
       "            <td>EAGLE PHARMACEUTICALS, INC.</td>\n",
       "            <td>2024-03-01</td>\n",
       "            <td>50 TICE BOULEVARD, SUITE 315</td>\n",
       "            <td>WOODCLIFF LAKE</td>\n",
       "            <td>07677</td>\n",
       "            <td>US</td>\n",
       "        </tr>\n",
       "        <tr>\n",
       "            <td>0001104659-24-029636</td>\n",
       "            <td>PRECISION BIOSCIENCES INC</td>\n",
       "            <td>2024-03-01</td>\n",
       "            <td>302 EAST PETTIGREW STREET</td>\n",
       "            <td>DURHAM</td>\n",
       "            <td>27701</td>\n",
       "            <td>US</td>\n",
       "        </tr>\n",
       "        <tr>\n",
       "            <td>0001104659-24-029638</td>\n",
       "            <td>MARKER THERAPEUTICS, INC.</td>\n",
       "            <td>2024-03-01</td>\n",
       "            <td>4551 KENNEDY COMMERCE DR.</td>\n",
       "            <td>HOUSTON</td>\n",
       "            <td>77032</td>\n",
       "            <td>US</td>\n",
       "        </tr>\n",
       "        <tr>\n",
       "            <td>0001104659-24-029960</td>\n",
       "            <td>CLEARPOINT NEURO, INC.</td>\n",
       "            <td>2024-03-01</td>\n",
       "            <td>120 S. SIERRA AVENUE</td>\n",
       "            <td>SOLANA BEACH</td>\n",
       "            <td>92075</td>\n",
       "            <td>US</td>\n",
       "        </tr>\n",
       "        <tr>\n",
       "            <td>0001104659-24-029961</td>\n",
       "            <td>DARIOHEALTH CORP.</td>\n",
       "            <td>2024-03-01</td>\n",
       "            <td>322 W 57TH ST. #33B</td>\n",
       "            <td>NEW YORK</td>\n",
       "            <td>10019</td>\n",
       "            <td>US</td>\n",
       "        </tr>\n",
       "        <tr>\n",
       "            <td>0001104659-24-029969</td>\n",
       "            <td>CELLDEX THERAPEUTICS, INC.</td>\n",
       "            <td>2024-03-01</td>\n",
       "            <td>53 FRONTAGE ROAD</td>\n",
       "            <td>HAMPTON</td>\n",
       "            <td>08827</td>\n",
       "            <td>US</td>\n",
       "        </tr>\n",
       "        <tr>\n",
       "            <td>0001104659-24-030032</td>\n",
       "            <td>GREENBROOK TMS INC.</td>\n",
       "            <td>2024-03-01</td>\n",
       "            <td>890 YONGE STREET, 7TH FLOOR</td>\n",
       "            <td>TORONTO</td>\n",
       "            <td>M4W 3P4</td>\n",
       "            <td>CA</td>\n",
       "        </tr>\n",
       "        <tr>\n",
       "            <td>0001104659-24-030064</td>\n",
       "            <td>JAGUAR HEALTH, INC.</td>\n",
       "            <td>2024-03-01</td>\n",
       "            <td>200 PINE STREET SUITE 400</td>\n",
       "            <td>SAN FRANCISCO</td>\n",
       "            <td>94104</td>\n",
       "            <td>US</td>\n",
       "        </tr>\n",
       "        <tr>\n",
       "            <td>0001140361-24-010584</td>\n",
       "            <td>KARUNA THERAPEUTICS, INC.</td>\n",
       "            <td>2024-03-01</td>\n",
       "            <td>99 HIGH STREET</td>\n",
       "            <td>BOSTON</td>\n",
       "            <td>02110</td>\n",
       "            <td>US</td>\n",
       "        </tr>\n",
       "        <tr>\n",
       "            <td>0001140361-24-010648</td>\n",
       "            <td>KINNATE BIOPHARMA INC.</td>\n",
       "            <td>2024-03-01</td>\n",
       "            <td>11975 EL CAMINO REAL, STE 101</td>\n",
       "            <td>SAN DIEGO</td>\n",
       "            <td>92130</td>\n",
       "            <td>US</td>\n",
       "        </tr>\n",
       "        <tr>\n",
       "            <td>0001145197-24-000013</td>\n",
       "            <td>INSULET CORP</td>\n",
       "            <td>2024-03-01</td>\n",
       "            <td>100 NAGOG PARK</td>\n",
       "            <td>ACTON</td>\n",
       "            <td>01720</td>\n",
       "            <td>US</td>\n",
       "        </tr>\n",
       "    </tbody>\n",
       "</table>"
      ],
      "text/plain": [
       "[('0000742112-24-000007', 'INVACARE HOLDINGS CORP', datetime.date(2024, 3, 1), 'ONE INVACARE WAY', 'ELYRIA', '44035', 'US'),\n",
       " ('0000885978-24-000007', 'U S PHYSICAL THERAPY INC /NV', datetime.date(2024, 3, 1), '1300 WEST SAM HOUSTON PARKWAY', 'HOUSTON', '77043', 'US'),\n",
       " ('0000950170-24-023509', 'BIODESIX INC', datetime.date(2024, 3, 1), '2970 WILDERNESS PLACE', 'BOULDER', '80301', 'US'),\n",
       " ('0000950170-24-023513', 'BIODESIX INC', datetime.date(2024, 3, 1), '2970 WILDERNESS PLACE', 'BOULDER', '80301', 'US'),\n",
       " ('0000950170-24-023543', 'MYOMO, INC.', datetime.date(2024, 3, 1), '137 PORTLAND STREET', 'BOSTON', '02114', 'US'),\n",
       " ('0000950170-24-023820', 'INOGEN INC', datetime.date(2024, 3, 1), '859 WARD DRIVE', 'GOLETA', '93111', 'US'),\n",
       " ('0000950170-24-023838', 'VIKING THERAPEUTICS, INC.', datetime.date(2024, 3, 1), '9920 PACIFIC HEIGHTS BLVD, SUITE 350', 'SAN DIEGO', '92121', 'US'),\n",
       " ('0000950170-24-023918', 'LYRA THERAPEUTICS, INC.', datetime.date(2024, 3, 1), '480 ARSENAL WAY', 'WATERTOWN', '02472', 'US'),\n",
       " ('0000950170-24-024008', '89BIO, INC.', datetime.date(2024, 3, 1), '142 SANSOME STREET', 'SAN FRANCISCO', '94104', 'US'),\n",
       " ('0001104659-24-029624', 'EAGLE PHARMACEUTICALS, INC.', datetime.date(2024, 3, 1), '50 TICE BOULEVARD, SUITE 315', 'WOODCLIFF LAKE', '07677', 'US'),\n",
       " ('0001104659-24-029636', 'PRECISION BIOSCIENCES INC', datetime.date(2024, 3, 1), '302 EAST PETTIGREW STREET', 'DURHAM', '27701', 'US'),\n",
       " ('0001104659-24-029638', 'MARKER THERAPEUTICS, INC.', datetime.date(2024, 3, 1), '4551 KENNEDY COMMERCE DR.', 'HOUSTON', '77032', 'US'),\n",
       " ('0001104659-24-029960', 'CLEARPOINT NEURO, INC.', datetime.date(2024, 3, 1), '120 S. SIERRA AVENUE', 'SOLANA BEACH', '92075', 'US'),\n",
       " ('0001104659-24-029961', 'DARIOHEALTH CORP.', datetime.date(2024, 3, 1), '322 W 57TH ST. #33B', 'NEW YORK', '10019', 'US'),\n",
       " ('0001104659-24-029969', 'CELLDEX THERAPEUTICS, INC.', datetime.date(2024, 3, 1), '53 FRONTAGE ROAD', 'HAMPTON', '08827', 'US'),\n",
       " ('0001104659-24-030032', 'GREENBROOK TMS INC.', datetime.date(2024, 3, 1), '890 YONGE STREET, 7TH FLOOR', 'TORONTO', 'M4W 3P4', 'CA'),\n",
       " ('0001104659-24-030064', 'JAGUAR HEALTH, INC.', datetime.date(2024, 3, 1), '200 PINE STREET SUITE 400', 'SAN FRANCISCO', '94104', 'US'),\n",
       " ('0001140361-24-010584', 'KARUNA THERAPEUTICS, INC.', datetime.date(2024, 3, 1), '99 HIGH STREET', 'BOSTON', '02110', 'US'),\n",
       " ('0001140361-24-010648', 'KINNATE BIOPHARMA INC.', datetime.date(2024, 3, 1), '11975 EL CAMINO REAL, STE 101', 'SAN DIEGO', '92130', 'US'),\n",
       " ('0001145197-24-000013', 'INSULET CORP', datetime.date(2024, 3, 1), '100 NAGOG PARK', 'ACTON', '01720', 'US')]"
      ]
     },
     "execution_count": 16,
     "metadata": {},
     "output_type": "execute_result"
    }
   ],
   "source": [
    "%%sql\n",
    "SELECT \n",
    "    adsh AS submission_id,\n",
    "    name AS company_name,\n",
    "    filed AS submission_date,\n",
    "    mas1 AS mailing_street,\n",
    "    cityma AS mailing_city,\n",
    "    zipma AS mailing_zip,\n",
    "    countryma AS mailing_country\n",
    "FROM \n",
    "    SUB\n",
    "WHERE \n",
    "    sic IN (2833, 2834, 2835, 2836, 3841, 3842, 3845, 5047, 6324, 8000, 8011, 8062, 8071, 8082, 8090)\n",
    "    AND filed BETWEEN '2024-03-01' AND '2024-03-31'\n",
    "    limit 20;"
   ]
  },
  {
   "cell_type": "markdown",
   "id": "25612e1a-08f3-41e4-81e8-49f815ab167f",
   "metadata": {},
   "source": [
    "**Question 2: On a monthly basis, calculate and display the month, the total number of\n",
    "submissions and the average number of submission for the first four month\n",
    "of 2024**\n",
    "\n",
    "**Code Explanation**\n",
    "* `TO_CHAR(filed, 'Month') AS month`: Converts the filed date into a month name, and aliases it as month.\n",
    "* `COUNT(*) AS total_submissions`: Counts the total rows for each month, providing the number of submissions, and aliases it as total_submissions.\n",
    "* `AVG(COUNT(*)) OVER () AS average_submissions`: Calculates the average number of submissions across all months in the result set. The OVER () clause means it calculates a global average over all grouped rows, aliasing it as average_submissions.\n",
    "* `FROM SUB`: Specifies SUB as the table containing the data.\n",
    "* `WHERE filed BETWEEN '2024-01-01' AND '2024-04-30'`: Filters rows to include only records where the filed date is between January 1, 2024, and April 30, 2024.\n",
    "* `GROUP BY TO_CHAR(filed, 'Month')`: Groups the records by month (from the filed column, formatted as month names) so that COUNT(*) counts submissions per month.\n",
    "* `ORDER BY MIN(filed)`: Orders the grouped results by the earliest date within each month group. This keeps the months in chronological order (January through April)."
   ]
  },
  {
   "cell_type": "code",
   "execution_count": 17,
   "id": "374a8c8a-5b4f-4933-85fc-754c6f262b44",
   "metadata": {},
   "outputs": [
    {
     "name": "stdout",
     "output_type": "stream",
     "text": [
      " * postgresql://student@/DMA_G6\n",
      "4 rows affected.\n"
     ]
    },
    {
     "data": {
      "text/html": [
       "<table>\n",
       "    <thead>\n",
       "        <tr>\n",
       "            <th>month</th>\n",
       "            <th>total_submissions</th>\n",
       "            <th>average_submissions</th>\n",
       "        </tr>\n",
       "    </thead>\n",
       "    <tbody>\n",
       "        <tr>\n",
       "            <td>January  </td>\n",
       "            <td>5904</td>\n",
       "            <td>8492.5000000000000000</td>\n",
       "        </tr>\n",
       "        <tr>\n",
       "            <td>February </td>\n",
       "            <td>9400</td>\n",
       "            <td>8492.5000000000000000</td>\n",
       "        </tr>\n",
       "        <tr>\n",
       "            <td>March    </td>\n",
       "            <td>9032</td>\n",
       "            <td>8492.5000000000000000</td>\n",
       "        </tr>\n",
       "        <tr>\n",
       "            <td>April    </td>\n",
       "            <td>9634</td>\n",
       "            <td>8492.5000000000000000</td>\n",
       "        </tr>\n",
       "    </tbody>\n",
       "</table>"
      ],
      "text/plain": [
       "[('January  ', 5904, Decimal('8492.5000000000000000')),\n",
       " ('February ', 9400, Decimal('8492.5000000000000000')),\n",
       " ('March    ', 9032, Decimal('8492.5000000000000000')),\n",
       " ('April    ', 9634, Decimal('8492.5000000000000000'))]"
      ]
     },
     "execution_count": 17,
     "metadata": {},
     "output_type": "execute_result"
    }
   ],
   "source": [
    "%%sql\n",
    "SELECT \n",
    "    TO_CHAR(filed, 'Month') AS month,\n",
    "    COUNT(*) AS total_submissions,\n",
    "    AVG(COUNT(*)) OVER () AS average_submissions\n",
    "FROM \n",
    "    SUB\n",
    "WHERE \n",
    "    filed BETWEEN '2024-01-01' AND '2024-04-30'\n",
    "GROUP BY \n",
    "    TO_CHAR(filed, 'Month')\n",
    "ORDER BY \n",
    "    MIN(filed);\n"
   ]
  },
  {
   "cell_type": "markdown",
   "id": "d33779ba-c784-4380-8d3d-8a4da0eec481",
   "metadata": {},
   "source": [
    "**Question 3: Retrieve the List of all tag_id, tag_name, and the total number of companies\n",
    "used that tag for all tags used in submissions by companies in the “Finance”\n",
    "sector in 2024**\n",
    "\n",
    "**Upon thorough analysis we understand that these are the SIC codes related to Finance sector. Ranging between 6000-6799** \n",
    "\n",
    "* SIC 6000-6099: Depository Institutions (e.g., Commercial Banks, Savings Institutions)\n",
    "* SIC 6100-6199: Nondepository Credit Institutions (e.g., Credit Unions, Mortgage Bankers and Brokers)\n",
    "* SIC 6200-6299: Security and Commodity Brokers, Dealers, Exchanges, and Services\n",
    "* SIC 6300-6399: Insurance Carriers\n",
    "* SIC 6400-6499: Insurance Agents, Brokers, and Service\n",
    "* SIC 6500-6599: Real Estate\n",
    "* SIC 6700-6799: Holding and Other Investment Offices\n",
    "\n",
    "**Code Explanation**\n",
    "\n",
    "* `t.tag AS tag_id`: retrieves the unique tag identifier from the tag table.\n",
    "* `t.tlabel AS tag_name` retrieves the label or description of each tag.\n",
    "* `COUNT(DISTINCT s.cik) AS total_companies`: counts the distinct companies (using cik) associated with each tag in the Finance sector.\n",
    "* `sub s`: Refers to submission records. The alias s is used for easier reference.\n",
    "* `num n ON s.adsh = n.adsh`: Joins sub and num tables using adsh, the unique accession number linking submissions to numeric data.\n",
    "* `tag t ON n.tag = t.tag`: Joins num and tag on tag, allowing access to tag descriptions and IDs.\n",
    "* `s.sic BETWEEN 6000 AND 6799`: Filters for Finance sector companies based on SIC codes.\n",
    "* `s.filed BETWEEN '2024-01-01' AGrouping and Ordering`:\n",
    "* `GROUP BY t.tag, t.tlabel`: Groups results by tag and tag label, enabling aggregation by COUNT.\n",
    "* `ORDER BY total_companies DESC`: Orders results by the count of companies using each tag, in descending order. "
   ]
  },
  {
   "cell_type": "code",
   "execution_count": 5,
   "id": "a4c7527c-e8b4-4c9f-bce0-cb3fe3ccc80b",
   "metadata": {},
   "outputs": [
    {
     "name": "stdout",
     "output_type": "stream",
     "text": [
      " * postgresql://student@/DMA_G6\n",
      "10 rows affected.\n"
     ]
    },
    {
     "data": {
      "text/html": [
       "<table>\n",
       "    <thead>\n",
       "        <tr>\n",
       "            <th>tag_id</th>\n",
       "            <th>tag_name</th>\n",
       "            <th>total_companies</th>\n",
       "        </tr>\n",
       "    </thead>\n",
       "    <tbody>\n",
       "        <tr>\n",
       "            <td>Assets</td>\n",
       "            <td>Assets</td>\n",
       "            <td>1476</td>\n",
       "        </tr>\n",
       "        <tr>\n",
       "            <td>EntityCommonStockSharesOutstanding</td>\n",
       "            <td>Entity Common Stock, Shares Outstanding</td>\n",
       "            <td>1456</td>\n",
       "        </tr>\n",
       "        <tr>\n",
       "            <td>Liabilities</td>\n",
       "            <td>Liabilities</td>\n",
       "            <td>1443</td>\n",
       "        </tr>\n",
       "        <tr>\n",
       "            <td>NetCashProvidedByUsedInOperatingActivities</td>\n",
       "            <td>Net Cash Provided by (Used in) Operating Activities</td>\n",
       "            <td>1374</td>\n",
       "        </tr>\n",
       "        <tr>\n",
       "            <td>LiabilitiesAndStockholdersEquity</td>\n",
       "            <td>Liabilities and Equity</td>\n",
       "            <td>1369</td>\n",
       "        </tr>\n",
       "        <tr>\n",
       "            <td>NetCashProvidedByUsedInFinancingActivities</td>\n",
       "            <td>Net Cash Provided by (Used in) Financing Activities</td>\n",
       "            <td>1363</td>\n",
       "        </tr>\n",
       "        <tr>\n",
       "            <td>NetIncomeLoss</td>\n",
       "            <td>Net Income (Loss) Attributable to Parent</td>\n",
       "            <td>1345</td>\n",
       "        </tr>\n",
       "        <tr>\n",
       "            <td>NetIncomeLoss</td>\n",
       "            <td>Net loss</td>\n",
       "            <td>1345</td>\n",
       "        </tr>\n",
       "        <tr>\n",
       "            <td>NetIncomeLoss</td>\n",
       "            <td>[Net income (loss) for the year]</td>\n",
       "            <td>1345</td>\n",
       "        </tr>\n",
       "        <tr>\n",
       "            <td>NetIncomeLoss</td>\n",
       "            <td>[Net income 1]</td>\n",
       "            <td>1345</td>\n",
       "        </tr>\n",
       "    </tbody>\n",
       "</table>"
      ],
      "text/plain": [
       "[('Assets', 'Assets', 1476),\n",
       " ('EntityCommonStockSharesOutstanding', 'Entity Common Stock, Shares Outstanding', 1456),\n",
       " ('Liabilities', 'Liabilities', 1443),\n",
       " ('NetCashProvidedByUsedInOperatingActivities', 'Net Cash Provided by (Used in) Operating Activities', 1374),\n",
       " ('LiabilitiesAndStockholdersEquity', 'Liabilities and Equity', 1369),\n",
       " ('NetCashProvidedByUsedInFinancingActivities', 'Net Cash Provided by (Used in) Financing Activities', 1363),\n",
       " ('NetIncomeLoss', 'Net Income (Loss) Attributable to Parent', 1345),\n",
       " ('NetIncomeLoss', 'Net loss', 1345),\n",
       " ('NetIncomeLoss', '[Net income (loss) for the year]', 1345),\n",
       " ('NetIncomeLoss', '[Net income 1]', 1345)]"
      ]
     },
     "execution_count": 5,
     "metadata": {},
     "output_type": "execute_result"
    }
   ],
   "source": [
    "%%sql\n",
    "SELECT \n",
    "    t.tag AS tag_id,\n",
    "    t.tlabel AS tag_name,\n",
    "    COUNT(DISTINCT s.cik) AS total_companies\n",
    "FROM \n",
    "    sub s\n",
    "JOIN \n",
    "    num n ON s.adsh = n.adsh\n",
    "JOIN \n",
    "    tag t ON n.tag = t.tag\n",
    "WHERE \n",
    "    s.sic BETWEEN 6000 AND 6799                          -- Covers all Finance SIC codes\n",
    "    AND s.filed BETWEEN '2024-01-01' AND '2024-12-31'    -- Only submissions in 2024\n",
    "GROUP BY \n",
    "    t.tag, t.tlabel\n",
    "ORDER BY \n",
    "    total_companies DESC\n",
    "LIMIT 10;  --Adjust as needed"
   ]
  },
  {
   "cell_type": "markdown",
   "id": "00a7e6e0-2e56-4d7e-bd62-bc438da49948",
   "metadata": {},
   "source": [
    "**Question 4: Retrieve the top 5 companies with the highest total assets in 2024, including\n",
    "their company_name, sector, and the number of unique tags used in their\n",
    "submissions.**\n",
    "\n",
    "**Code Explanation** \n",
    "* `s.name AS company_name`: Retrieves the company’s name.\n",
    "* `s.sic AS sector`: Retrieves the SIC code, representing the company’s sector.\n",
    "* `COUNT(DISTINCT t.tag) AS unique_tags`: Counts unique tags used by the company in its submissions.\n",
    "* `SUM(n.value) AS total_assets`: Sums the value column in num, representing the company’s total assets.\n",
    "* `JOIN num n ON s.adsh` = n.adsh: Links sub and num tables by adsh, matching submissions with numeric values.\n",
    "* `JOIN tag t ON n.tag = t.tag AND n.version = t.version`: Connects num to tag by tag and version to access tag definitions.\n",
    "* `WHERE s.filed BETWEEN '20240101' AND '20241231'`: Limits results to filings within 2024.\n",
    "* `GROUP BY s.name, s.sic`: Groups results by company and sector.\n",
    "* `ORDER BY total_assets DESC`: Orders by total_assets, descending, to show companies with the highest asset totals first.\n",
    "* `LIMIT 5`: Displays the top 5 companies by total assets."
   ]
  },
  {
   "cell_type": "code",
   "execution_count": 20,
   "id": "72bd8b7f-eded-411a-aa81-8ba5778d4c21",
   "metadata": {},
   "outputs": [
    {
     "name": "stdout",
     "output_type": "stream",
     "text": [
      " * postgresql://student@/DMA_G6\n",
      "5 rows affected.\n"
     ]
    },
    {
     "data": {
      "text/html": [
       "<table>\n",
       "    <thead>\n",
       "        <tr>\n",
       "            <th>company_name</th>\n",
       "            <th>sector</th>\n",
       "            <th>unique_tags</th>\n",
       "            <th>total_assets</th>\n",
       "        </tr>\n",
       "    </thead>\n",
       "    <tbody>\n",
       "        <tr>\n",
       "            <td>BANK OF CHILE</td>\n",
       "            <td>6029</td>\n",
       "            <td>1066</td>\n",
       "            <td>16048901542880200602.8597</td>\n",
       "        </tr>\n",
       "        <tr>\n",
       "            <td>POSCO HOLDINGS INC.</td>\n",
       "            <td>3312</td>\n",
       "            <td>687</td>\n",
       "            <td>5155860969511875705.7398</td>\n",
       "        </tr>\n",
       "        <tr>\n",
       "            <td>BANCO SANTANDER CHILE</td>\n",
       "            <td>6029</td>\n",
       "            <td>1046</td>\n",
       "            <td>3689022900181005786.4128</td>\n",
       "        </tr>\n",
       "        <tr>\n",
       "            <td>KB FINANCIAL GROUP INC.</td>\n",
       "            <td>6029</td>\n",
       "            <td>984</td>\n",
       "            <td>148892842488236511.6123</td>\n",
       "        </tr>\n",
       "        <tr>\n",
       "            <td>SHINHAN FINANCIAL GROUP CO LTD</td>\n",
       "            <td>6021</td>\n",
       "            <td>1003</td>\n",
       "            <td>148822933062439580.4438</td>\n",
       "        </tr>\n",
       "    </tbody>\n",
       "</table>"
      ],
      "text/plain": [
       "[('BANK OF CHILE', Decimal('6029'), 1066, Decimal('16048901542880200602.8597')),\n",
       " ('POSCO HOLDINGS INC.', Decimal('3312'), 687, Decimal('5155860969511875705.7398')),\n",
       " ('BANCO SANTANDER CHILE', Decimal('6029'), 1046, Decimal('3689022900181005786.4128')),\n",
       " ('KB FINANCIAL GROUP INC.', Decimal('6029'), 984, Decimal('148892842488236511.6123')),\n",
       " ('SHINHAN FINANCIAL GROUP CO LTD', Decimal('6021'), 1003, Decimal('148822933062439580.4438'))]"
      ]
     },
     "execution_count": 20,
     "metadata": {},
     "output_type": "execute_result"
    }
   ],
   "source": [
    "%%sql\n",
    "\n",
    "SELECT \n",
    "    s.name AS company_name,\n",
    "    s.sic AS sector,\n",
    "    COUNT(DISTINCT t.tag) AS unique_tags,\n",
    "    SUM(n.value) AS total_assets\n",
    "FROM \n",
    "    sub s\n",
    "JOIN \n",
    "    num n ON s.adsh = n.adsh\n",
    "JOIN \n",
    "    tag t ON n.tag = t.tag AND n.version = t.version\n",
    "WHERE \n",
    "    s.filed BETWEEN '20240101' AND '20241231'\n",
    "GROUP BY \n",
    "    s.name, s.sic\n",
    "ORDER BY \n",
    "    total_assets DESC\n",
    "LIMIT 5;"
   ]
  },
  {
   "cell_type": "code",
   "execution_count": null,
   "id": "d81d4025-c6f9-497a-9d0e-4d7f8c5dbe3f",
   "metadata": {},
   "outputs": [],
   "source": []
  }
 ],
 "metadata": {
  "kernelspec": {
   "display_name": "Python 3 (ipykernel)",
   "language": "python",
   "name": "python3"
  },
  "language_info": {
   "codemirror_mode": {
    "name": "ipython",
    "version": 3
   },
   "file_extension": ".py",
   "mimetype": "text/x-python",
   "name": "python",
   "nbconvert_exporter": "python",
   "pygments_lexer": "ipython3",
   "version": "3.12.4"
  }
 },
 "nbformat": 4,
 "nbformat_minor": 5
}
